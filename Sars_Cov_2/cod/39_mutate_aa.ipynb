{
 "cells": [
  {
   "cell_type": "code",
   "execution_count": 7,
   "id": "1659a30b",
   "metadata": {
    "scrolled": true
   },
   "outputs": [],
   "source": [
    "import pandas as pd\n",
    "import random\n",
    "from collections import Counter\n",
    "from tqdm import tqdm\n",
    "import matplotlib.pyplot as plt\n",
    "from matplotlib.backends.backend_pdf import PdfPages\n",
    "import taxoniq\n",
    "from Bio.SeqUtils import seq3\n",
    "from Bio import Entrez"
   ]
  },
  {
   "cell_type": "code",
   "execution_count": 12,
   "id": "fbb1c0de",
   "metadata": {},
   "outputs": [],
   "source": [
    "viruses_specs = pd.read_csv('../data/ms12all_all_virus.csv', index_col=0)\n",
    "viruses_type = pd.read_csv('../data/taxid_virus_type.csv', index_col=0)\n",
    "viruses_aa_freq = pd.read_csv('../data/aminoacid_freq_all_virus.csv')"
   ]
  },
  {
   "cell_type": "code",
   "execution_count": 13,
   "id": "7ad18d8f",
   "metadata": {},
   "outputs": [
    {
     "data": {
      "text/html": [
       "<div>\n",
       "<style scoped>\n",
       "    .dataframe tbody tr th:only-of-type {\n",
       "        vertical-align: middle;\n",
       "    }\n",
       "\n",
       "    .dataframe tbody tr th {\n",
       "        vertical-align: top;\n",
       "    }\n",
       "\n",
       "    .dataframe thead th {\n",
       "        text-align: right;\n",
       "    }\n",
       "</style>\n",
       "<table border=\"1\" class=\"dataframe\">\n",
       "  <thead>\n",
       "    <tr style=\"text-align: right;\">\n",
       "      <th></th>\n",
       "      <th>Mut</th>\n",
       "      <th>ObsNum</th>\n",
       "      <th>ExpNum</th>\n",
       "      <th>MutSpec</th>\n",
       "      <th>MutSpec_q05</th>\n",
       "      <th>MutSpec_median</th>\n",
       "      <th>MutSpec_q95</th>\n",
       "      <th>taxid</th>\n",
       "    </tr>\n",
       "  </thead>\n",
       "  <tbody>\n",
       "    <tr>\n",
       "      <th>0</th>\n",
       "      <td>A&gt;C</td>\n",
       "      <td>52.23960</td>\n",
       "      <td>1469.25</td>\n",
       "      <td>0.024132</td>\n",
       "      <td>0.018531</td>\n",
       "      <td>0.023911</td>\n",
       "      <td>0.028715</td>\n",
       "      <td>10990</td>\n",
       "    </tr>\n",
       "    <tr>\n",
       "      <th>1</th>\n",
       "      <td>A&gt;G</td>\n",
       "      <td>253.87900</td>\n",
       "      <td>1469.25</td>\n",
       "      <td>0.117280</td>\n",
       "      <td>0.104365</td>\n",
       "      <td>0.118346</td>\n",
       "      <td>0.125804</td>\n",
       "      <td>10990</td>\n",
       "    </tr>\n",
       "    <tr>\n",
       "      <th>2</th>\n",
       "      <td>A&gt;T</td>\n",
       "      <td>38.27730</td>\n",
       "      <td>1469.25</td>\n",
       "      <td>0.017682</td>\n",
       "      <td>0.013120</td>\n",
       "      <td>0.017858</td>\n",
       "      <td>0.022347</td>\n",
       "      <td>10990</td>\n",
       "    </tr>\n",
       "    <tr>\n",
       "      <th>3</th>\n",
       "      <td>C&gt;A</td>\n",
       "      <td>28.95880</td>\n",
       "      <td>616.17</td>\n",
       "      <td>0.031899</td>\n",
       "      <td>0.021166</td>\n",
       "      <td>0.033087</td>\n",
       "      <td>0.041969</td>\n",
       "      <td>10990</td>\n",
       "    </tr>\n",
       "    <tr>\n",
       "      <th>4</th>\n",
       "      <td>C&gt;G</td>\n",
       "      <td>3.51939</td>\n",
       "      <td>616.17</td>\n",
       "      <td>0.003877</td>\n",
       "      <td>0.000000</td>\n",
       "      <td>0.003464</td>\n",
       "      <td>0.007581</td>\n",
       "      <td>10990</td>\n",
       "    </tr>\n",
       "  </tbody>\n",
       "</table>\n",
       "</div>"
      ],
      "text/plain": [
       "   Mut     ObsNum   ExpNum   MutSpec  MutSpec_q05  MutSpec_median  \\\n",
       "0  A>C   52.23960  1469.25  0.024132     0.018531        0.023911   \n",
       "1  A>G  253.87900  1469.25  0.117280     0.104365        0.118346   \n",
       "2  A>T   38.27730  1469.25  0.017682     0.013120        0.017858   \n",
       "3  C>A   28.95880   616.17  0.031899     0.021166        0.033087   \n",
       "4  C>G    3.51939   616.17  0.003877     0.000000        0.003464   \n",
       "\n",
       "   MutSpec_q95  taxid  \n",
       "0     0.028715  10990  \n",
       "1     0.125804  10990  \n",
       "2     0.022347  10990  \n",
       "3     0.041969  10990  \n",
       "4     0.007581  10990  "
      ]
     },
     "execution_count": 13,
     "metadata": {},
     "output_type": "execute_result"
    }
   ],
   "source": [
    "viruses_specs.head()"
   ]
  },
  {
   "cell_type": "code",
   "execution_count": 14,
   "id": "12cb750a",
   "metadata": {},
   "outputs": [
    {
     "data": {
      "text/html": [
       "<div>\n",
       "<style scoped>\n",
       "    .dataframe tbody tr th:only-of-type {\n",
       "        vertical-align: middle;\n",
       "    }\n",
       "\n",
       "    .dataframe tbody tr th {\n",
       "        vertical-align: top;\n",
       "    }\n",
       "\n",
       "    .dataframe thead th {\n",
       "        text-align: right;\n",
       "    }\n",
       "</style>\n",
       "<table border=\"1\" class=\"dataframe\">\n",
       "  <thead>\n",
       "    <tr style=\"text-align: right;\">\n",
       "      <th></th>\n",
       "      <th>taxid</th>\n",
       "      <th>species</th>\n",
       "      <th>host</th>\n",
       "      <th>gene</th>\n",
       "      <th>comment</th>\n",
       "      <th>Type</th>\n",
       "    </tr>\n",
       "  </thead>\n",
       "  <tbody>\n",
       "    <tr>\n",
       "      <th>0</th>\n",
       "      <td>38170</td>\n",
       "      <td>Avian orthoreovirus__38170</td>\n",
       "      <td>NaN</td>\n",
       "      <td>NaN</td>\n",
       "      <td>NaN</td>\n",
       "      <td>ds</td>\n",
       "    </tr>\n",
       "    <tr>\n",
       "      <th>1</th>\n",
       "      <td>1157337</td>\n",
       "      <td>Piscine orthoreovirus__1157337</td>\n",
       "      <td>NaN</td>\n",
       "      <td>NaN</td>\n",
       "      <td>NaN</td>\n",
       "      <td>ds</td>\n",
       "    </tr>\n",
       "    <tr>\n",
       "      <th>2</th>\n",
       "      <td>351073</td>\n",
       "      <td>Mammalian orthoreovirus__351073</td>\n",
       "      <td>NaN</td>\n",
       "      <td>NaN</td>\n",
       "      <td>NaN</td>\n",
       "      <td>ds</td>\n",
       "    </tr>\n",
       "    <tr>\n",
       "      <th>3</th>\n",
       "      <td>40054</td>\n",
       "      <td>Epizootic hemorrhagic disease virus__40054</td>\n",
       "      <td>NaN</td>\n",
       "      <td>NaN</td>\n",
       "      <td>NaN</td>\n",
       "      <td>ds</td>\n",
       "    </tr>\n",
       "    <tr>\n",
       "      <th>4</th>\n",
       "      <td>10990</td>\n",
       "      <td>Rice black streaked dwarf virus__10990</td>\n",
       "      <td>Avena sativa</td>\n",
       "      <td>P1 protein</td>\n",
       "      <td>NaN</td>\n",
       "      <td>ds</td>\n",
       "    </tr>\n",
       "  </tbody>\n",
       "</table>\n",
       "</div>"
      ],
      "text/plain": [
       "     taxid                                     species           host  \\\n",
       "0    38170                  Avian orthoreovirus__38170            NaN   \n",
       "1  1157337              Piscine orthoreovirus__1157337            NaN   \n",
       "2   351073             Mammalian orthoreovirus__351073            NaN   \n",
       "3    40054  Epizootic hemorrhagic disease virus__40054            NaN   \n",
       "4    10990      Rice black streaked dwarf virus__10990  Avena sativa    \n",
       "\n",
       "          gene comment Type  \n",
       "0          NaN     NaN   ds  \n",
       "1          NaN     NaN   ds  \n",
       "2          NaN     NaN   ds  \n",
       "3          NaN     NaN   ds  \n",
       "4  P1 protein      NaN   ds  "
      ]
     },
     "execution_count": 14,
     "metadata": {},
     "output_type": "execute_result"
    }
   ],
   "source": [
    "viruses_type.head()"
   ]
  },
  {
   "cell_type": "code",
   "execution_count": 47,
   "id": "699db964",
   "metadata": {},
   "outputs": [
    {
     "data": {
      "text/plain": [
       "array(['113201', '113202', '162145', '12814', '186538', '1980486',\n",
       "       '11620', '31604', '118655', '1980917', '12331', '38525', '1933178',\n",
       "       '57482', '2034996', '2560743'], dtype=object)"
      ]
     },
     "execution_count": 47,
     "metadata": {},
     "output_type": "execute_result"
    }
   ],
   "source": [
    "viruses_type[viruses_type['Type'] == '-']['taxid'].unique()"
   ]
  },
  {
   "cell_type": "code",
   "execution_count": 16,
   "id": "4f83dcce",
   "metadata": {},
   "outputs": [],
   "source": [
    "viruses_type['taxid'] = viruses_type['taxid'].apply(str)"
   ]
  },
  {
   "cell_type": "code",
   "execution_count": 17,
   "id": "c4c12042",
   "metadata": {},
   "outputs": [
    {
     "data": {
      "text/html": [
       "<div>\n",
       "<style scoped>\n",
       "    .dataframe tbody tr th:only-of-type {\n",
       "        vertical-align: middle;\n",
       "    }\n",
       "\n",
       "    .dataframe tbody tr th {\n",
       "        vertical-align: top;\n",
       "    }\n",
       "\n",
       "    .dataframe thead th {\n",
       "        text-align: right;\n",
       "    }\n",
       "</style>\n",
       "<table border=\"1\" class=\"dataframe\">\n",
       "  <thead>\n",
       "    <tr style=\"text-align: right;\">\n",
       "      <th></th>\n",
       "      <th>taxid</th>\n",
       "      <th>refseq_id</th>\n",
       "      <th>M</th>\n",
       "      <th>L</th>\n",
       "      <th>K</th>\n",
       "      <th>V</th>\n",
       "      <th>N</th>\n",
       "      <th>Q</th>\n",
       "      <th>A</th>\n",
       "      <th>I</th>\n",
       "      <th>...</th>\n",
       "      <th>S</th>\n",
       "      <th>G</th>\n",
       "      <th>T</th>\n",
       "      <th>D</th>\n",
       "      <th>R</th>\n",
       "      <th>H</th>\n",
       "      <th>W</th>\n",
       "      <th>E</th>\n",
       "      <th>C</th>\n",
       "      <th>X</th>\n",
       "    </tr>\n",
       "  </thead>\n",
       "  <tbody>\n",
       "    <tr>\n",
       "      <th>0</th>\n",
       "      <td>10990</td>\n",
       "      <td>GCF_000852945.1</td>\n",
       "      <td>0.024014</td>\n",
       "      <td>0.101132</td>\n",
       "      <td>0.066222</td>\n",
       "      <td>0.061991</td>\n",
       "      <td>0.070771</td>\n",
       "      <td>0.032265</td>\n",
       "      <td>0.039141</td>\n",
       "      <td>0.070983</td>\n",
       "      <td>...</td>\n",
       "      <td>0.090976</td>\n",
       "      <td>0.037554</td>\n",
       "      <td>0.056702</td>\n",
       "      <td>0.062097</td>\n",
       "      <td>0.041680</td>\n",
       "      <td>0.024331</td>\n",
       "      <td>0.007405</td>\n",
       "      <td>0.056702</td>\n",
       "      <td>0.015762</td>\n",
       "      <td>0.0</td>\n",
       "    </tr>\n",
       "    <tr>\n",
       "      <th>1</th>\n",
       "      <td>11082</td>\n",
       "      <td>GCF_000861085.1</td>\n",
       "      <td>0.032028</td>\n",
       "      <td>0.087427</td>\n",
       "      <td>0.056481</td>\n",
       "      <td>0.078338</td>\n",
       "      <td>0.037654</td>\n",
       "      <td>0.024670</td>\n",
       "      <td>0.081800</td>\n",
       "      <td>0.050422</td>\n",
       "      <td>...</td>\n",
       "      <td>0.060593</td>\n",
       "      <td>0.088293</td>\n",
       "      <td>0.074659</td>\n",
       "      <td>0.044579</td>\n",
       "      <td>0.057996</td>\n",
       "      <td>0.020558</td>\n",
       "      <td>0.026401</td>\n",
       "      <td>0.059944</td>\n",
       "      <td>0.020342</td>\n",
       "      <td>0.0</td>\n",
       "    </tr>\n",
       "    <tr>\n",
       "      <th>2</th>\n",
       "      <td>11320</td>\n",
       "      <td>GCF_000865725.1</td>\n",
       "      <td>0.039465</td>\n",
       "      <td>0.081437</td>\n",
       "      <td>0.061808</td>\n",
       "      <td>0.055126</td>\n",
       "      <td>0.053247</td>\n",
       "      <td>0.038839</td>\n",
       "      <td>0.057214</td>\n",
       "      <td>0.064940</td>\n",
       "      <td>...</td>\n",
       "      <td>0.075799</td>\n",
       "      <td>0.065358</td>\n",
       "      <td>0.062644</td>\n",
       "      <td>0.043850</td>\n",
       "      <td>0.067237</td>\n",
       "      <td>0.017749</td>\n",
       "      <td>0.016496</td>\n",
       "      <td>0.074963</td>\n",
       "      <td>0.018167</td>\n",
       "      <td>0.0</td>\n",
       "    </tr>\n",
       "    <tr>\n",
       "      <th>3</th>\n",
       "      <td>1133363</td>\n",
       "      <td>GCF_004789575.1</td>\n",
       "      <td>0.031650</td>\n",
       "      <td>0.088671</td>\n",
       "      <td>0.074353</td>\n",
       "      <td>0.048480</td>\n",
       "      <td>0.056267</td>\n",
       "      <td>0.036925</td>\n",
       "      <td>0.049485</td>\n",
       "      <td>0.090681</td>\n",
       "      <td>...</td>\n",
       "      <td>0.077367</td>\n",
       "      <td>0.041949</td>\n",
       "      <td>0.061291</td>\n",
       "      <td>0.054760</td>\n",
       "      <td>0.040944</td>\n",
       "      <td>0.025119</td>\n",
       "      <td>0.011052</td>\n",
       "      <td>0.055514</td>\n",
       "      <td>0.030394</td>\n",
       "      <td>0.0</td>\n",
       "    </tr>\n",
       "    <tr>\n",
       "      <th>4</th>\n",
       "      <td>1157337</td>\n",
       "      <td>GCF_002829625.1</td>\n",
       "      <td>0.029342</td>\n",
       "      <td>0.094342</td>\n",
       "      <td>0.042105</td>\n",
       "      <td>0.076842</td>\n",
       "      <td>0.044474</td>\n",
       "      <td>0.034868</td>\n",
       "      <td>0.072763</td>\n",
       "      <td>0.058947</td>\n",
       "      <td>...</td>\n",
       "      <td>0.080526</td>\n",
       "      <td>0.061711</td>\n",
       "      <td>0.073947</td>\n",
       "      <td>0.062368</td>\n",
       "      <td>0.053026</td>\n",
       "      <td>0.018553</td>\n",
       "      <td>0.015132</td>\n",
       "      <td>0.043421</td>\n",
       "      <td>0.013421</td>\n",
       "      <td>0.0</td>\n",
       "    </tr>\n",
       "  </tbody>\n",
       "</table>\n",
       "<p>5 rows × 23 columns</p>\n",
       "</div>"
      ],
      "text/plain": [
       "     taxid        refseq_id         M         L         K         V         N  \\\n",
       "0    10990  GCF_000852945.1  0.024014  0.101132  0.066222  0.061991  0.070771   \n",
       "1    11082  GCF_000861085.1  0.032028  0.087427  0.056481  0.078338  0.037654   \n",
       "2    11320  GCF_000865725.1  0.039465  0.081437  0.061808  0.055126  0.053247   \n",
       "3  1133363  GCF_004789575.1  0.031650  0.088671  0.074353  0.048480  0.056267   \n",
       "4  1157337  GCF_002829625.1  0.029342  0.094342  0.042105  0.076842  0.044474   \n",
       "\n",
       "          Q         A         I  ...         S         G         T         D  \\\n",
       "0  0.032265  0.039141  0.070983  ...  0.090976  0.037554  0.056702  0.062097   \n",
       "1  0.024670  0.081800  0.050422  ...  0.060593  0.088293  0.074659  0.044579   \n",
       "2  0.038839  0.057214  0.064940  ...  0.075799  0.065358  0.062644  0.043850   \n",
       "3  0.036925  0.049485  0.090681  ...  0.077367  0.041949  0.061291  0.054760   \n",
       "4  0.034868  0.072763  0.058947  ...  0.080526  0.061711  0.073947  0.062368   \n",
       "\n",
       "          R         H         W         E         C    X  \n",
       "0  0.041680  0.024331  0.007405  0.056702  0.015762  0.0  \n",
       "1  0.057996  0.020558  0.026401  0.059944  0.020342  0.0  \n",
       "2  0.067237  0.017749  0.016496  0.074963  0.018167  0.0  \n",
       "3  0.040944  0.025119  0.011052  0.055514  0.030394  0.0  \n",
       "4  0.053026  0.018553  0.015132  0.043421  0.013421  0.0  \n",
       "\n",
       "[5 rows x 23 columns]"
      ]
     },
     "execution_count": 17,
     "metadata": {},
     "output_type": "execute_result"
    }
   ],
   "source": [
    "viruses_aa_freq.head()"
   ]
  },
  {
   "cell_type": "code",
   "execution_count": 18,
   "id": "04ca35fe",
   "metadata": {},
   "outputs": [],
   "source": [
    "d = {'C': 'Cys', 'D': 'Asp', 'S': 'Ser', 'Q': 'Gln', 'K': 'Lys',\n",
    "     'I': 'Ile', 'P': 'Pro', 'T': 'Thr', 'F': 'Phe', 'N': 'Asn', \n",
    "     'G': 'Gly', 'H': 'His', 'L': 'Leu', 'R': 'Arg', 'W': 'Trp', \n",
    "     'A': 'Ala', 'V':'Val', 'E': 'Glu', 'Y': 'Tyr', 'M': 'Met'}\n",
    "\n",
    "viruses_aa_freq.columns = [d[col] if col in d else col for col in viruses_aa_freq.columns]"
   ]
  },
  {
   "cell_type": "code",
   "execution_count": 19,
   "id": "d47ebbe7",
   "metadata": {},
   "outputs": [
    {
     "data": {
      "text/html": [
       "<div>\n",
       "<style scoped>\n",
       "    .dataframe tbody tr th:only-of-type {\n",
       "        vertical-align: middle;\n",
       "    }\n",
       "\n",
       "    .dataframe tbody tr th {\n",
       "        vertical-align: top;\n",
       "    }\n",
       "\n",
       "    .dataframe thead th {\n",
       "        text-align: right;\n",
       "    }\n",
       "</style>\n",
       "<table border=\"1\" class=\"dataframe\">\n",
       "  <thead>\n",
       "    <tr style=\"text-align: right;\">\n",
       "      <th></th>\n",
       "      <th>taxid</th>\n",
       "      <th>refseq_id</th>\n",
       "      <th>Met</th>\n",
       "      <th>Leu</th>\n",
       "      <th>Lys</th>\n",
       "      <th>Val</th>\n",
       "      <th>Asn</th>\n",
       "      <th>Gln</th>\n",
       "      <th>Ala</th>\n",
       "      <th>Ile</th>\n",
       "      <th>...</th>\n",
       "      <th>Ser</th>\n",
       "      <th>Gly</th>\n",
       "      <th>Thr</th>\n",
       "      <th>Asp</th>\n",
       "      <th>Arg</th>\n",
       "      <th>His</th>\n",
       "      <th>Trp</th>\n",
       "      <th>Glu</th>\n",
       "      <th>Cys</th>\n",
       "      <th>X</th>\n",
       "    </tr>\n",
       "  </thead>\n",
       "  <tbody>\n",
       "    <tr>\n",
       "      <th>0</th>\n",
       "      <td>10990</td>\n",
       "      <td>GCF_000852945.1</td>\n",
       "      <td>0.024014</td>\n",
       "      <td>0.101132</td>\n",
       "      <td>0.066222</td>\n",
       "      <td>0.061991</td>\n",
       "      <td>0.070771</td>\n",
       "      <td>0.032265</td>\n",
       "      <td>0.039141</td>\n",
       "      <td>0.070983</td>\n",
       "      <td>...</td>\n",
       "      <td>0.090976</td>\n",
       "      <td>0.037554</td>\n",
       "      <td>0.056702</td>\n",
       "      <td>0.062097</td>\n",
       "      <td>0.041680</td>\n",
       "      <td>0.024331</td>\n",
       "      <td>0.007405</td>\n",
       "      <td>0.056702</td>\n",
       "      <td>0.015762</td>\n",
       "      <td>0.0</td>\n",
       "    </tr>\n",
       "    <tr>\n",
       "      <th>1</th>\n",
       "      <td>11082</td>\n",
       "      <td>GCF_000861085.1</td>\n",
       "      <td>0.032028</td>\n",
       "      <td>0.087427</td>\n",
       "      <td>0.056481</td>\n",
       "      <td>0.078338</td>\n",
       "      <td>0.037654</td>\n",
       "      <td>0.024670</td>\n",
       "      <td>0.081800</td>\n",
       "      <td>0.050422</td>\n",
       "      <td>...</td>\n",
       "      <td>0.060593</td>\n",
       "      <td>0.088293</td>\n",
       "      <td>0.074659</td>\n",
       "      <td>0.044579</td>\n",
       "      <td>0.057996</td>\n",
       "      <td>0.020558</td>\n",
       "      <td>0.026401</td>\n",
       "      <td>0.059944</td>\n",
       "      <td>0.020342</td>\n",
       "      <td>0.0</td>\n",
       "    </tr>\n",
       "    <tr>\n",
       "      <th>2</th>\n",
       "      <td>11320</td>\n",
       "      <td>GCF_000865725.1</td>\n",
       "      <td>0.039465</td>\n",
       "      <td>0.081437</td>\n",
       "      <td>0.061808</td>\n",
       "      <td>0.055126</td>\n",
       "      <td>0.053247</td>\n",
       "      <td>0.038839</td>\n",
       "      <td>0.057214</td>\n",
       "      <td>0.064940</td>\n",
       "      <td>...</td>\n",
       "      <td>0.075799</td>\n",
       "      <td>0.065358</td>\n",
       "      <td>0.062644</td>\n",
       "      <td>0.043850</td>\n",
       "      <td>0.067237</td>\n",
       "      <td>0.017749</td>\n",
       "      <td>0.016496</td>\n",
       "      <td>0.074963</td>\n",
       "      <td>0.018167</td>\n",
       "      <td>0.0</td>\n",
       "    </tr>\n",
       "    <tr>\n",
       "      <th>3</th>\n",
       "      <td>1133363</td>\n",
       "      <td>GCF_004789575.1</td>\n",
       "      <td>0.031650</td>\n",
       "      <td>0.088671</td>\n",
       "      <td>0.074353</td>\n",
       "      <td>0.048480</td>\n",
       "      <td>0.056267</td>\n",
       "      <td>0.036925</td>\n",
       "      <td>0.049485</td>\n",
       "      <td>0.090681</td>\n",
       "      <td>...</td>\n",
       "      <td>0.077367</td>\n",
       "      <td>0.041949</td>\n",
       "      <td>0.061291</td>\n",
       "      <td>0.054760</td>\n",
       "      <td>0.040944</td>\n",
       "      <td>0.025119</td>\n",
       "      <td>0.011052</td>\n",
       "      <td>0.055514</td>\n",
       "      <td>0.030394</td>\n",
       "      <td>0.0</td>\n",
       "    </tr>\n",
       "    <tr>\n",
       "      <th>4</th>\n",
       "      <td>1157337</td>\n",
       "      <td>GCF_002829625.1</td>\n",
       "      <td>0.029342</td>\n",
       "      <td>0.094342</td>\n",
       "      <td>0.042105</td>\n",
       "      <td>0.076842</td>\n",
       "      <td>0.044474</td>\n",
       "      <td>0.034868</td>\n",
       "      <td>0.072763</td>\n",
       "      <td>0.058947</td>\n",
       "      <td>...</td>\n",
       "      <td>0.080526</td>\n",
       "      <td>0.061711</td>\n",
       "      <td>0.073947</td>\n",
       "      <td>0.062368</td>\n",
       "      <td>0.053026</td>\n",
       "      <td>0.018553</td>\n",
       "      <td>0.015132</td>\n",
       "      <td>0.043421</td>\n",
       "      <td>0.013421</td>\n",
       "      <td>0.0</td>\n",
       "    </tr>\n",
       "  </tbody>\n",
       "</table>\n",
       "<p>5 rows × 23 columns</p>\n",
       "</div>"
      ],
      "text/plain": [
       "     taxid        refseq_id       Met       Leu       Lys       Val       Asn  \\\n",
       "0    10990  GCF_000852945.1  0.024014  0.101132  0.066222  0.061991  0.070771   \n",
       "1    11082  GCF_000861085.1  0.032028  0.087427  0.056481  0.078338  0.037654   \n",
       "2    11320  GCF_000865725.1  0.039465  0.081437  0.061808  0.055126  0.053247   \n",
       "3  1133363  GCF_004789575.1  0.031650  0.088671  0.074353  0.048480  0.056267   \n",
       "4  1157337  GCF_002829625.1  0.029342  0.094342  0.042105  0.076842  0.044474   \n",
       "\n",
       "        Gln       Ala       Ile  ...       Ser       Gly       Thr       Asp  \\\n",
       "0  0.032265  0.039141  0.070983  ...  0.090976  0.037554  0.056702  0.062097   \n",
       "1  0.024670  0.081800  0.050422  ...  0.060593  0.088293  0.074659  0.044579   \n",
       "2  0.038839  0.057214  0.064940  ...  0.075799  0.065358  0.062644  0.043850   \n",
       "3  0.036925  0.049485  0.090681  ...  0.077367  0.041949  0.061291  0.054760   \n",
       "4  0.034868  0.072763  0.058947  ...  0.080526  0.061711  0.073947  0.062368   \n",
       "\n",
       "        Arg       His       Trp       Glu       Cys    X  \n",
       "0  0.041680  0.024331  0.007405  0.056702  0.015762  0.0  \n",
       "1  0.057996  0.020558  0.026401  0.059944  0.020342  0.0  \n",
       "2  0.067237  0.017749  0.016496  0.074963  0.018167  0.0  \n",
       "3  0.040944  0.025119  0.011052  0.055514  0.030394  0.0  \n",
       "4  0.053026  0.018553  0.015132  0.043421  0.013421  0.0  \n",
       "\n",
       "[5 rows x 23 columns]"
      ]
     },
     "execution_count": 19,
     "metadata": {},
     "output_type": "execute_result"
    }
   ],
   "source": [
    "viruses_aa_freq.head()"
   ]
  },
  {
   "cell_type": "code",
   "execution_count": 20,
   "id": "1f3eba90",
   "metadata": {},
   "outputs": [
    {
     "data": {
      "text/plain": [
       "array([  10990,   11082,   11320, 1133363, 1157337,  118655,   11983,\n",
       "         12110,   12162,   12637,   12814,  138948,  138950,  138951,\n",
       "        162145, 1678143,  186538, 1933178,  198112,   28295,   28344,\n",
       "       3052310, 3052493, 3052763,  351073,   38170,   38525,   40054,\n",
       "         54290,   57482,  693997,  694014,   77763], dtype=int64)"
      ]
     },
     "execution_count": 20,
     "metadata": {},
     "output_type": "execute_result"
    }
   ],
   "source": [
    "viruses_aa_freq['taxid'].unique()"
   ]
  },
  {
   "cell_type": "code",
   "execution_count": 21,
   "id": "8e812dc8",
   "metadata": {},
   "outputs": [
    {
     "data": {
      "text/plain": [
       "array(['10990', '11082', '11320_1', '11320_2', '1133363', '1157337',\n",
       "       '118655', '11983', '12110', '12162', '12637', '138948', '138950',\n",
       "       '138951', '162145', '1678143', '1933178', '198112', '28295',\n",
       "       '28344', '3052493', '3052763', '351073', '38170', '40054', '54290',\n",
       "       '57482', '693997', '694014', '77763'], dtype=object)"
      ]
     },
     "execution_count": 21,
     "metadata": {},
     "output_type": "execute_result"
    }
   ],
   "source": [
    "viruses_specs['taxid'].unique()"
   ]
  },
  {
   "cell_type": "code",
   "execution_count": 22,
   "id": "45f5deaa",
   "metadata": {},
   "outputs": [
    {
     "data": {
      "text/plain": [
       "array(['38170', '1157337', '351073', '40054', '10990', '77763', '113201',\n",
       "       '113202', '162145', '12814', '186538', '1980486', '11620', '31604',\n",
       "       '1933309', '1980917', '12331', '38525', '1933178', '57482',\n",
       "       '2034996', '2560743', '11103', '11983', '12637', '138948', '28344',\n",
       "       '11082', '694014', '12110', '138950', '1678143', '28295', '12162',\n",
       "       '138951', '693997', '1985356', '198112'], dtype=object)"
      ]
     },
     "execution_count": 22,
     "metadata": {},
     "output_type": "execute_result"
    }
   ],
   "source": [
    "viruses_type['taxid'].unique()"
   ]
  },
  {
   "cell_type": "code",
   "execution_count": 23,
   "id": "50061fee",
   "metadata": {},
   "outputs": [],
   "source": [
    "viruses_aa_freq['taxid'] = viruses_aa_freq['taxid'].apply(str)"
   ]
  },
  {
   "cell_type": "code",
   "execution_count": 24,
   "id": "4ee425ab",
   "metadata": {},
   "outputs": [],
   "source": [
    "viruses_specs.loc[viruses_specs['taxid'] == '118655(1933309)','taxid'] = '118655'\n",
    "viruses_type.loc[viruses_type['taxid'] == '1933309','taxid'] = '118655'\n",
    "\n",
    "viruses_specs.loc[viruses_specs['taxid'] == '54290_1985356','taxid'] = '54290'\n",
    "viruses_type.loc[viruses_type['taxid'] == '1985356','taxid'] = '54290'"
   ]
  },
  {
   "cell_type": "code",
   "execution_count": 25,
   "id": "48a8e888",
   "metadata": {},
   "outputs": [],
   "source": [
    "codon_aa={'UUU':'Phe','UUC':'Phe','UUA':'Leu','UUG':'Leu','CUU':'Leu','CUC':'Leu','CUA':'Leu','CUG':'Leu','AUU':'Ile',\n",
    "       'AUC':'Ile','AUA':'Ile','AUG':'Met','GUU':'Val','GUC':'Val','GUA':'Val','GUG':'Val','UCU':'Ser','UCC':'Ser',\n",
    "       'UCA':'Ser','UCG':'Ser','CCU':'Pro','CCC':'Pro','CCA':'Pro','CCG':'Pro','ACU':'Thr','ACC':'Thr','ACA':'Thr',\n",
    "       'ACG':'Thr','GCU':'Ala','GCC':'Ala','GCA':'Ala','GCG':'Ala','UAU':'Tyr','UAC':'Tyr','UAA':'STOP','UAG':'STOP',\n",
    "       'CAU':'His','CAC':'His','CAA':'Gln','CAG':'Gln','AAU':'Asn','AAC':'Asn','AAA':'Lys','AAG':'Lys','GAU':'Asp',\n",
    "       'GAC':'Asp','GAA':'Glu','GAG':'Glu','UGU':'Cys','UGC':'Cys','UGA':'STOP','UGG':'Trp','CGU':'Arg','CGC':'Arg',\n",
    "       'CGA':'Arg','CGG':'Arg','AGU':'Ser','AGC':'Ser','AGA':'Arg','AGG':'Arg','GGU':'Gly','GGC':'Gly','GGA':'Gly',\n",
    "       'GGG':'Gly'}"
   ]
  },
  {
   "cell_type": "code",
   "execution_count": 26,
   "id": "12509bd1",
   "metadata": {},
   "outputs": [],
   "source": [
    "aa_counter = {\n",
    "    'Pro' : [],\n",
    "    'Ser' : [],\n",
    "    'Ala' : [],\n",
    "    'Thr' : [],\n",
    "    'Leu' : [],\n",
    "    'Phe' : [],\n",
    "    'Val' : [],\n",
    "    'Ile' : [],\n",
    "    'Met' : [],\n",
    "    'Arg' : [],\n",
    "    'Cys' : [],\n",
    "    'Trp' : [],\n",
    "    'Gly' : [],\n",
    "    'His' : [],\n",
    "    'Gln' : [],\n",
    "    'Tyr' : [],\n",
    "    'Asp' : [],\n",
    "    'Glu' : [],\n",
    "    'Asn' : [],\n",
    "    'Lys' : []\n",
    "}"
   ]
  },
  {
   "cell_type": "code",
   "execution_count": 27,
   "id": "81bd06e7",
   "metadata": {},
   "outputs": [],
   "source": [
    "def create_genome(length=9999):\n",
    "    generated_genome = ''.join([random.choice('AUGC') for n in range(length)])\n",
    "    return generated_genome"
   ]
  },
  {
   "cell_type": "code",
   "execution_count": 28,
   "id": "4c715783",
   "metadata": {},
   "outputs": [],
   "source": [
    "#ref_data = pd.read_csv('../data/U_ideal_table.csv', index_col=0)"
   ]
  },
  {
   "cell_type": "code",
   "execution_count": 29,
   "id": "a0539040",
   "metadata": {},
   "outputs": [],
   "source": [
    "#ref_data = ref_data[ref_data['GenType'] == 'translated']"
   ]
  },
  {
   "cell_type": "code",
   "execution_count": 30,
   "id": "88c28455",
   "metadata": {},
   "outputs": [],
   "source": [
    "#ref_data = ref_data[['CodonNumber', 'RefCodon']].drop_duplicates()"
   ]
  },
  {
   "cell_type": "code",
   "execution_count": 31,
   "id": "21ae9307",
   "metadata": {},
   "outputs": [],
   "source": [
    "#ref_data = ref_data[~(ref_data['RefCodon'].isin(['UGA', 'UAA', 'UAG']))]"
   ]
  },
  {
   "cell_type": "code",
   "execution_count": 32,
   "id": "af9fdc00",
   "metadata": {},
   "outputs": [],
   "source": [
    "#ref_codon_list = ref_data['RefCodon'].to_list()"
   ]
  },
  {
   "cell_type": "code",
   "execution_count": 33,
   "id": "84d98c07",
   "metadata": {},
   "outputs": [],
   "source": [
    "#mutations = pd.read_csv('../data/All_mutation_information.csv.gz')\n",
    "#mutations = mutations[mutations['(SBS) is coding'].isin([True, 'TRUE', 'TRUE, TRUE'])]"
   ]
  },
  {
   "cell_type": "code",
   "execution_count": 34,
   "id": "d03024ad",
   "metadata": {},
   "outputs": [],
   "source": [
    "#all_df = mutations[mutations['base(s) in status 1'].isin(['A', 'T', 'G', 'C']) & mutations['base(s) in status 2'].isin(['A', 'T', 'G', 'C'])]\n",
    "\n",
    "#all_df['aa_from'] = all_df['(SBS) AA change'].str.split(\" \").str[1].str[0]\n",
    "#all_df['aa_to'] = all_df['(SBS) AA change'].str.split(\" \").str[1].str[0]\n",
    "#all_df = all_df.reset_index(drop=True)\n",
    "#all_df['counter'] = all_df.index\n",
    "#all_df['from_to_nuc'] = all_df['base(s) in status 1'] + '>' + all_df['base(s) in status 2']\n",
    "#data = all_df[['from_to_nuc', 'counter']].groupby(['from_to_nuc'], as_index=False).count()\n",
    "#n_mut = int(sum(data['counter']))\n",
    "#max_mut = int(max(data['counter']))\n",
    "#data['counter'] = data['counter']/n_mut"
   ]
  },
  {
   "cell_type": "code",
   "execution_count": 35,
   "id": "4ed979cc",
   "metadata": {},
   "outputs": [],
   "source": [
    "#data['from_nuc'] = data['from_to_nuc'].str.split(\">\").str[0]\n",
    "#data['to_nuc'] = data['from_to_nuc'].str.split(\">\").str[1]\n",
    "#data['to_nuc'] = data['to_nuc'].str.replace('T','U')\n",
    "#data['from_nuc'] = data['from_nuc'].str.replace('T','U')"
   ]
  },
  {
   "cell_type": "code",
   "execution_count": 36,
   "id": "062df16c",
   "metadata": {},
   "outputs": [],
   "source": [
    "#data"
   ]
  },
  {
   "cell_type": "code",
   "execution_count": 37,
   "id": "4b671629",
   "metadata": {},
   "outputs": [],
   "source": [
    "viruses_specs['from_to_nuc'] = viruses_specs['Mut']\n",
    "viruses_specs['counter'] = viruses_specs['MutSpec']\n",
    "\n",
    "viruses_specs['from_nuc'] = viruses_specs['from_to_nuc'].str.split(\">\").str[0]\n",
    "viruses_specs['to_nuc'] = viruses_specs['from_to_nuc'].str.split(\">\").str[1]\n",
    "viruses_specs['to_nuc'] = viruses_specs['to_nuc'].str.replace('T','U')\n",
    "viruses_specs['from_nuc'] = viruses_specs['from_nuc'].str.replace('T','U')"
   ]
  },
  {
   "cell_type": "code",
   "execution_count": 38,
   "id": "b24abb87",
   "metadata": {},
   "outputs": [],
   "source": [
    "viruses_specs = viruses_specs[['taxid', 'from_to_nuc', 'counter', 'from_nuc', 'to_nuc']]"
   ]
  },
  {
   "cell_type": "code",
   "execution_count": 39,
   "id": "bdffed2c",
   "metadata": {},
   "outputs": [
    {
     "data": {
      "text/html": [
       "<div>\n",
       "<style scoped>\n",
       "    .dataframe tbody tr th:only-of-type {\n",
       "        vertical-align: middle;\n",
       "    }\n",
       "\n",
       "    .dataframe tbody tr th {\n",
       "        vertical-align: top;\n",
       "    }\n",
       "\n",
       "    .dataframe thead th {\n",
       "        text-align: right;\n",
       "    }\n",
       "</style>\n",
       "<table border=\"1\" class=\"dataframe\">\n",
       "  <thead>\n",
       "    <tr style=\"text-align: right;\">\n",
       "      <th></th>\n",
       "      <th>taxid</th>\n",
       "      <th>from_to_nuc</th>\n",
       "      <th>counter</th>\n",
       "      <th>from_nuc</th>\n",
       "      <th>to_nuc</th>\n",
       "    </tr>\n",
       "  </thead>\n",
       "  <tbody>\n",
       "    <tr>\n",
       "      <th>0</th>\n",
       "      <td>10990</td>\n",
       "      <td>A&gt;C</td>\n",
       "      <td>0.024132</td>\n",
       "      <td>A</td>\n",
       "      <td>C</td>\n",
       "    </tr>\n",
       "    <tr>\n",
       "      <th>1</th>\n",
       "      <td>10990</td>\n",
       "      <td>A&gt;G</td>\n",
       "      <td>0.117280</td>\n",
       "      <td>A</td>\n",
       "      <td>G</td>\n",
       "    </tr>\n",
       "    <tr>\n",
       "      <th>2</th>\n",
       "      <td>10990</td>\n",
       "      <td>A&gt;T</td>\n",
       "      <td>0.017682</td>\n",
       "      <td>A</td>\n",
       "      <td>U</td>\n",
       "    </tr>\n",
       "    <tr>\n",
       "      <th>3</th>\n",
       "      <td>10990</td>\n",
       "      <td>C&gt;A</td>\n",
       "      <td>0.031899</td>\n",
       "      <td>C</td>\n",
       "      <td>A</td>\n",
       "    </tr>\n",
       "    <tr>\n",
       "      <th>4</th>\n",
       "      <td>10990</td>\n",
       "      <td>C&gt;G</td>\n",
       "      <td>0.003877</td>\n",
       "      <td>C</td>\n",
       "      <td>G</td>\n",
       "    </tr>\n",
       "  </tbody>\n",
       "</table>\n",
       "</div>"
      ],
      "text/plain": [
       "   taxid from_to_nuc   counter from_nuc to_nuc\n",
       "0  10990         A>C  0.024132        A      C\n",
       "1  10990         A>G  0.117280        A      G\n",
       "2  10990         A>T  0.017682        A      U\n",
       "3  10990         C>A  0.031899        C      A\n",
       "4  10990         C>G  0.003877        C      G"
      ]
     },
     "execution_count": 39,
     "metadata": {},
     "output_type": "execute_result"
    }
   ],
   "source": [
    "viruses_specs.head()"
   ]
  },
  {
   "cell_type": "code",
   "execution_count": 40,
   "id": "05ad6378",
   "metadata": {},
   "outputs": [],
   "source": [
    "def select_codon_number(codon_list):\n",
    "    return random.choice(range(len(codon_list)))"
   ]
  },
  {
   "cell_type": "code",
   "execution_count": 41,
   "id": "c365653a",
   "metadata": {},
   "outputs": [],
   "source": [
    "def mutate_codon(codon_number, mutspec):\n",
    "    nuc_number = random.choice(range(len(codon_list[codon_number])))\n",
    "    \n",
    "    nuc_spec = mutspec[mutspec['from_nuc'] == codon_list[codon_number][nuc_number]]\n",
    "    pop = nuc_spec['to_nuc'].to_list()\n",
    "    pop.append(codon_list[codon_number][nuc_number])\n",
    "    \n",
    "    wei = nuc_spec['counter'].to_list()\n",
    "    wei.append(1 - sum(wei))\n",
    "    \n",
    "    new_nuc = random.choices(pop, weights=wei)[0]\n",
    "    \n",
    "    new_codon = codon_list[codon_number][:nuc_number] + new_nuc + codon_list[codon_number][nuc_number + 1:]\n",
    "    \n",
    "    if new_codon in ['UGA', 'UAA', 'UAG']:\n",
    "        new_codon = codon_list[codon_number]\n",
    "    \n",
    "    codon_list[codon_number] = new_codon"
   ]
  },
  {
   "cell_type": "code",
   "execution_count": 42,
   "id": "e8783509",
   "metadata": {},
   "outputs": [],
   "source": [
    "def update_aa_dict(aa_counter, new_aa_counter):\n",
    "    for key in aa_counter.keys():\n",
    "        if key in new_aa_counter.keys():\n",
    "            aa_counter[key].append(new_aa_counter[key])\n",
    "        else:\n",
    "            aa_counter[key].append(0)"
   ]
  },
  {
   "cell_type": "code",
   "execution_count": 45,
   "id": "c6734e1c",
   "metadata": {},
   "outputs": [
    {
     "name": "stdout",
     "output_type": "stream",
     "text": [
      "10990\n"
     ]
    },
    {
     "name": "stderr",
     "output_type": "stream",
     "text": [
      "100%|████████████████████████████████████████████████████████████████████████████| 10000/10000 [02:39<00:00, 62.56it/s]\n"
     ]
    },
    {
     "name": "stdout",
     "output_type": "stream",
     "text": [
      "11082\n"
     ]
    },
    {
     "name": "stderr",
     "output_type": "stream",
     "text": [
      "100%|████████████████████████████████████████████████████████████████████████████| 10000/10000 [02:41<00:00, 61.93it/s]\n"
     ]
    },
    {
     "name": "stdout",
     "output_type": "stream",
     "text": [
      "11320_1\n"
     ]
    },
    {
     "name": "stderr",
     "output_type": "stream",
     "text": [
      "100%|████████████████████████████████████████████████████████████████████████████| 10000/10000 [02:42<00:00, 61.71it/s]\n"
     ]
    },
    {
     "name": "stdout",
     "output_type": "stream",
     "text": [
      "11320_2\n"
     ]
    },
    {
     "name": "stderr",
     "output_type": "stream",
     "text": [
      "100%|████████████████████████████████████████████████████████████████████████████| 10000/10000 [02:42<00:00, 61.48it/s]\n"
     ]
    },
    {
     "name": "stdout",
     "output_type": "stream",
     "text": [
      "1133363\n"
     ]
    },
    {
     "name": "stderr",
     "output_type": "stream",
     "text": [
      "100%|████████████████████████████████████████████████████████████████████████████| 10000/10000 [02:44<00:00, 60.86it/s]\n"
     ]
    },
    {
     "name": "stdout",
     "output_type": "stream",
     "text": [
      "1157337\n"
     ]
    },
    {
     "name": "stderr",
     "output_type": "stream",
     "text": [
      "100%|████████████████████████████████████████████████████████████████████████████| 10000/10000 [02:43<00:00, 60.99it/s]\n"
     ]
    },
    {
     "name": "stdout",
     "output_type": "stream",
     "text": [
      "118655\n"
     ]
    },
    {
     "name": "stderr",
     "output_type": "stream",
     "text": [
      "100%|████████████████████████████████████████████████████████████████████████████| 10000/10000 [02:45<00:00, 60.33it/s]\n"
     ]
    },
    {
     "name": "stdout",
     "output_type": "stream",
     "text": [
      "11983\n"
     ]
    },
    {
     "name": "stderr",
     "output_type": "stream",
     "text": [
      "100%|████████████████████████████████████████████████████████████████████████████| 10000/10000 [02:45<00:00, 60.43it/s]\n"
     ]
    },
    {
     "name": "stdout",
     "output_type": "stream",
     "text": [
      "12110\n"
     ]
    },
    {
     "name": "stderr",
     "output_type": "stream",
     "text": [
      "100%|████████████████████████████████████████████████████████████████████████████| 10000/10000 [02:45<00:00, 60.51it/s]\n"
     ]
    },
    {
     "name": "stdout",
     "output_type": "stream",
     "text": [
      "12162\n"
     ]
    },
    {
     "name": "stderr",
     "output_type": "stream",
     "text": [
      "100%|████████████████████████████████████████████████████████████████████████████| 10000/10000 [02:45<00:00, 60.49it/s]\n"
     ]
    },
    {
     "name": "stdout",
     "output_type": "stream",
     "text": [
      "12637\n"
     ]
    },
    {
     "name": "stderr",
     "output_type": "stream",
     "text": [
      "100%|████████████████████████████████████████████████████████████████████████████| 10000/10000 [02:45<00:00, 60.48it/s]\n"
     ]
    },
    {
     "name": "stdout",
     "output_type": "stream",
     "text": [
      "138948\n"
     ]
    },
    {
     "name": "stderr",
     "output_type": "stream",
     "text": [
      "100%|████████████████████████████████████████████████████████████████████████████| 10000/10000 [02:45<00:00, 60.50it/s]\n"
     ]
    },
    {
     "name": "stdout",
     "output_type": "stream",
     "text": [
      "138950\n"
     ]
    },
    {
     "name": "stderr",
     "output_type": "stream",
     "text": [
      "100%|████████████████████████████████████████████████████████████████████████████| 10000/10000 [02:46<00:00, 60.13it/s]\n"
     ]
    },
    {
     "name": "stdout",
     "output_type": "stream",
     "text": [
      "138951\n"
     ]
    },
    {
     "name": "stderr",
     "output_type": "stream",
     "text": [
      "100%|████████████████████████████████████████████████████████████████████████████| 10000/10000 [02:47<00:00, 59.79it/s]\n"
     ]
    },
    {
     "name": "stdout",
     "output_type": "stream",
     "text": [
      "162145\n"
     ]
    },
    {
     "name": "stderr",
     "output_type": "stream",
     "text": [
      "100%|████████████████████████████████████████████████████████████████████████████| 10000/10000 [02:47<00:00, 59.74it/s]\n"
     ]
    },
    {
     "name": "stdout",
     "output_type": "stream",
     "text": [
      "1678143\n"
     ]
    },
    {
     "name": "stderr",
     "output_type": "stream",
     "text": [
      "100%|████████████████████████████████████████████████████████████████████████████| 10000/10000 [02:45<00:00, 60.31it/s]\n"
     ]
    },
    {
     "name": "stdout",
     "output_type": "stream",
     "text": [
      "1933178\n"
     ]
    },
    {
     "name": "stderr",
     "output_type": "stream",
     "text": [
      "100%|████████████████████████████████████████████████████████████████████████████| 10000/10000 [02:46<00:00, 60.15it/s]\n"
     ]
    },
    {
     "name": "stdout",
     "output_type": "stream",
     "text": [
      "198112\n"
     ]
    },
    {
     "name": "stderr",
     "output_type": "stream",
     "text": [
      "100%|████████████████████████████████████████████████████████████████████████████| 10000/10000 [02:46<00:00, 59.99it/s]\n"
     ]
    },
    {
     "name": "stdout",
     "output_type": "stream",
     "text": [
      "28295\n"
     ]
    },
    {
     "name": "stderr",
     "output_type": "stream",
     "text": [
      "100%|████████████████████████████████████████████████████████████████████████████| 10000/10000 [02:41<00:00, 62.01it/s]\n"
     ]
    },
    {
     "name": "stdout",
     "output_type": "stream",
     "text": [
      "28344\n"
     ]
    },
    {
     "name": "stderr",
     "output_type": "stream",
     "text": [
      "100%|████████████████████████████████████████████████████████████████████████████| 10000/10000 [02:43<00:00, 61.29it/s]\n"
     ]
    },
    {
     "name": "stdout",
     "output_type": "stream",
     "text": [
      "3052493\n"
     ]
    },
    {
     "name": "stderr",
     "output_type": "stream",
     "text": [
      "100%|████████████████████████████████████████████████████████████████████████████| 10000/10000 [02:46<00:00, 60.19it/s]\n"
     ]
    },
    {
     "name": "stdout",
     "output_type": "stream",
     "text": [
      "3052763\n"
     ]
    },
    {
     "name": "stderr",
     "output_type": "stream",
     "text": [
      "100%|████████████████████████████████████████████████████████████████████████████| 10000/10000 [02:46<00:00, 60.10it/s]\n"
     ]
    },
    {
     "name": "stdout",
     "output_type": "stream",
     "text": [
      "351073\n"
     ]
    },
    {
     "name": "stderr",
     "output_type": "stream",
     "text": [
      "100%|████████████████████████████████████████████████████████████████████████████| 10000/10000 [02:45<00:00, 60.40it/s]\n"
     ]
    },
    {
     "name": "stdout",
     "output_type": "stream",
     "text": [
      "38170\n"
     ]
    },
    {
     "name": "stderr",
     "output_type": "stream",
     "text": [
      "100%|████████████████████████████████████████████████████████████████████████████| 10000/10000 [02:44<00:00, 60.81it/s]\n"
     ]
    },
    {
     "name": "stdout",
     "output_type": "stream",
     "text": [
      "40054\n"
     ]
    },
    {
     "name": "stderr",
     "output_type": "stream",
     "text": [
      "100%|████████████████████████████████████████████████████████████████████████████| 10000/10000 [02:44<00:00, 60.66it/s]\n"
     ]
    },
    {
     "name": "stdout",
     "output_type": "stream",
     "text": [
      "54290\n"
     ]
    },
    {
     "name": "stderr",
     "output_type": "stream",
     "text": [
      "100%|████████████████████████████████████████████████████████████████████████████| 10000/10000 [02:46<00:00, 59.92it/s]\n"
     ]
    },
    {
     "name": "stdout",
     "output_type": "stream",
     "text": [
      "57482\n"
     ]
    },
    {
     "name": "stderr",
     "output_type": "stream",
     "text": [
      "100%|████████████████████████████████████████████████████████████████████████████| 10000/10000 [02:47<00:00, 59.70it/s]\n"
     ]
    },
    {
     "name": "stdout",
     "output_type": "stream",
     "text": [
      "693997\n"
     ]
    },
    {
     "name": "stderr",
     "output_type": "stream",
     "text": [
      "100%|████████████████████████████████████████████████████████████████████████████| 10000/10000 [02:46<00:00, 60.06it/s]\n"
     ]
    },
    {
     "name": "stdout",
     "output_type": "stream",
     "text": [
      "694014\n"
     ]
    },
    {
     "name": "stderr",
     "output_type": "stream",
     "text": [
      "100%|████████████████████████████████████████████████████████████████████████████| 10000/10000 [02:45<00:00, 60.42it/s]\n"
     ]
    },
    {
     "name": "stdout",
     "output_type": "stream",
     "text": [
      "77763\n"
     ]
    },
    {
     "name": "stderr",
     "output_type": "stream",
     "text": [
      "100%|████████████████████████████████████████████████████████████████████████████| 10000/10000 [02:48<00:00, 59.39it/s]\n"
     ]
    }
   ],
   "source": [
    "viruses_g_l_dict = {\n",
    "    'taxid' : [],\n",
    "    'strand' : [],\n",
    "    'gainers' : [],\n",
    "    'loosers' : []\n",
    "}\n",
    "\n",
    "for tax in viruses_specs['taxid'].unique():\n",
    "    aa_counter = {\n",
    "    'Pro' : [],\n",
    "    'Ser' : [],\n",
    "    'Ala' : [],\n",
    "    'Thr' : [],\n",
    "    'Leu' : [],\n",
    "    'Phe' : [],\n",
    "    'Val' : [],\n",
    "    'Ile' : [],\n",
    "    'Met' : [],\n",
    "    'Arg' : [],\n",
    "    'Cys' : [],\n",
    "    'Trp' : [],\n",
    "    'Gly' : [],\n",
    "    'His' : [],\n",
    "    'Gln' : [],\n",
    "    'Tyr' : [],\n",
    "    'Asp' : [],\n",
    "    'Glu' : [],\n",
    "    'Asn' : [],\n",
    "    'Lys' : []\n",
    "    }\n",
    "    \n",
    "    virus_spec = viruses_specs[viruses_specs['taxid'] == tax]\n",
    "    \n",
    "    if tax in ('113201', '113202'):\n",
    "        virus_aa_freq = viruses_aa_freq[viruses_aa_freq['taxid'] == '11320']\n",
    "    else:\n",
    "        virus_aa_freq = viruses_aa_freq[viruses_aa_freq['taxid'] == tax.split('_')[0]]\n",
    "        \n",
    "    print(tax)\n",
    "    if tax in ('3052493', '1133363', '3052763'):\n",
    "        strand = '-'\n",
    "    else:\n",
    "        virus_type = viruses_type[viruses_type['taxid'] == tax.replace('_','')]\n",
    "        strand = virus_type['Type'].values[0]\n",
    "        \n",
    "    virus_name = virus_type['species'].values[0].split('__')[0]\n",
    "    \n",
    "    \n",
    "    with PdfPages(f'../figures/simulations/mutation_of_aa_{tax}.pdf') as pdf:\n",
    "        fig, axs = plt.subplots(5, 4, figsize=(20, 30))\n",
    "        for _ in range(1):\n",
    "            aa_counter = {\n",
    "                'Pro' : [],\n",
    "                'Ser' : [],\n",
    "                'Ala' : [],\n",
    "                'Thr' : [],\n",
    "                'Leu' : [],\n",
    "                'Phe' : [],\n",
    "                'Val' : [],\n",
    "                'Ile' : [],\n",
    "                'Met' : [],\n",
    "                'Arg' : [],\n",
    "                'Cys' : [],\n",
    "                'Trp' : [],\n",
    "                'Gly' : [],\n",
    "                'His' : [],\n",
    "                'Gln' : [],\n",
    "                'Tyr' : [],\n",
    "                'Asp' : [],\n",
    "                'Glu' : [],\n",
    "                'Asn' : [],\n",
    "                'Lys' : []\n",
    "            }\n",
    "            genome = create_genome(length=9999)\n",
    "            codon_list = [genome[i:i+3] for i in range(0, len(genome), 3)]\n",
    "\n",
    "            num_generations = 10000\n",
    "            mut_in_gen = 100\n",
    "\n",
    "            for gen in tqdm(range(num_generations)):\n",
    "                new_dict = dict(Counter([codon_aa.get(item, item)  for item in codon_list]))\n",
    "\n",
    "                update_aa_dict(aa_counter, new_dict)\n",
    "                for mut in range(mut_in_gen):\n",
    "                    codon_num_to_mut = select_codon_number(codon_list)\n",
    "\n",
    "                    mutate_codon(codon_num_to_mut, mutspec=virus_spec)\n",
    "            mutated_df = pd.DataFrame(aa_counter)\n",
    "            mutated_df = mutated_df / len(codon_list)\n",
    "\n",
    "            gainers = []\n",
    "            loosers = []\n",
    "            for aa in mutated_df.columns:\n",
    "                last_freq = mutated_df[aa].tail(1).values[0]\n",
    "                ref_freq = virus_aa_freq[aa].values[0]\n",
    "                if last_freq>ref_freq:\n",
    "                    gainers.append(aa)\n",
    "                elif last_freq<ref_freq:\n",
    "                    loosers.append(aa)\n",
    "                    \n",
    "            g_l = list(aa_counter.keys())\n",
    "            column=0\n",
    "            for aa_num in range(len(g_l)):\n",
    "                aa = g_l[aa_num]\n",
    "                ref_aa_count = virus_aa_freq[aa].values[0]\n",
    "                if aa in gainers: \n",
    "                    colr = 'red'\n",
    "                elif aa in loosers: \n",
    "                    colr = 'blue'\n",
    "\n",
    "                if aa_num<=4:\n",
    "                    axs[aa_num][column].plot(mutated_df[aa], color=colr, label=aa)\n",
    "                    #axs[aa_num][column].legend(loc=\"upper right\", fontsize=20)\n",
    "                    axs[aa_num][column].yaxis.set_major_locator(plt.MaxNLocator(2))\n",
    "                    axs[aa_num][column].yaxis.set_tick_params(labelsize=15)\n",
    "                    axs[aa_num][column].axhline(y = ref_aa_count, color = 'black', linestyle = '--')\n",
    "                elif aa_num>4 and aa_num<=9:\n",
    "                    axs[aa_num-5][column+1].plot(mutated_df[aa], color=colr, label=aa)\n",
    "                    #axs[aa_num-5][column+1].legend(loc=\"upper right\", fontsize=20)\n",
    "                    axs[aa_num-5][column+1].yaxis.set_major_locator(plt.MaxNLocator(2))\n",
    "                    axs[aa_num-5][column+1].yaxis.set_tick_params(labelsize=15)\n",
    "                    axs[aa_num-5][column+1].axhline(y = ref_aa_count, color = 'black', linestyle = '--')\n",
    "                elif aa_num>9 and aa_num<=14:\n",
    "                    axs[aa_num-10][column+2].plot(mutated_df[aa], color=colr, label=aa)\n",
    "                    #axs[aa_num-10][column+2].legend(loc=\"upper right\", fontsize=20)\n",
    "                    axs[aa_num-10][column+2].yaxis.set_major_locator(plt.MaxNLocator(2))\n",
    "                    axs[aa_num-10][column+2].yaxis.set_tick_params(labelsize=15)\n",
    "                    axs[aa_num-10][column+2].axhline(y = ref_aa_count, color = 'black', linestyle = '--')\n",
    "                elif aa_num>14:\n",
    "                    axs[aa_num-15][column+3].plot(mutated_df[aa], color=colr, label=aa)\n",
    "                    #axs[aa_num-15][column+3].legend(loc=\"upper right\", fontsize=20)\n",
    "                    axs[aa_num-15][column+3].yaxis.set_major_locator(plt.MaxNLocator(2))\n",
    "                    axs[aa_num-15][column+3].yaxis.set_tick_params(labelsize=15)\n",
    "                    axs[aa_num-15][column+3].axhline(y = ref_aa_count, color = 'black', linestyle = '--')\n",
    "\n",
    "        axs[4][0].xaxis.set_tick_params(labelsize=15)\n",
    "        axs[4][1].xaxis.set_tick_params(labelsize=15)\n",
    "        axs[4][2].xaxis.set_tick_params(labelsize=15)\n",
    "        axs[4][3].xaxis.set_tick_params(labelsize=15)\n",
    "        plt.subplots_adjust(hspace=0)\n",
    "        plt.subplots_adjust(wspace=0.15)\n",
    "        \n",
    "        for row in range(5):\n",
    "            for column in range(4):\n",
    "                handles, labels = axs[row][column].get_legend_handles_labels()\n",
    "                by_label = dict(zip(labels, handles))\n",
    "                axs[row][column].legend(by_label.values(), by_label.keys(), loc=\"upper right\", fontsize=20)\n",
    "                #axs[row][column].legend(loc=\"upper right\", fontsize=20)\n",
    "\n",
    "        plt.grid(False)\n",
    "        fig.supylabel(\"Proportion of Amino Acid in the genome\", x=0.08, size=20)\n",
    "        fig.supxlabel(\"Number of Generations\", y=0.09, size=20)\n",
    "        fig.suptitle(\"Mutation of the amino acid composition of according to the mutation spectrum\"+virus_name+\" Genome type - \"+strand, y=0.90, size=23)\n",
    "        pdf.savefig(fig, bbox_inches='tight')\n",
    "    plt.close()\n",
    "    virus_g_l_dict = {\n",
    "        'taxid' : tax,\n",
    "        'strand' : strand,\n",
    "        'gainers' : gainers,\n",
    "        'loosers' : loosers\n",
    "    }\n",
    "    update_aa_dict(viruses_g_l_dict, virus_g_l_dict)\n",
    "    \n",
    "viruses_g_l_df = pd.DataFrame(viruses_g_l_dict)\n",
    "viruses_g_l_df.to_csv('../data_obtain/viruses_g_l.csv')  "
   ]
  },
  {
   "cell_type": "code",
   "execution_count": null,
   "id": "89abaa34",
   "metadata": {},
   "outputs": [],
   "source": [
    "viruses_specs['taxid'].unique()"
   ]
  },
  {
   "cell_type": "code",
   "execution_count": null,
   "id": "52ff8e33",
   "metadata": {},
   "outputs": [],
   "source": [
    "gainers = ['Ser', 'Leu', 'Phe', 'Ile', 'Cys', 'Tyr']\n",
    "loosers = ['Pro', 'Ala', 'Thr', 'Val', 'Met', 'Arg', 'Trp', 'Gly', 'His', 'Gln', 'Asp', 'Glu', 'Asn', 'Lys']\n",
    "with PdfPages('../figures/mutation_of_aa.pdf') as pdf:\n",
    "    fig, axs = plt.subplots(7, 3, figsize=(20, 30))\n",
    "\n",
    "    for aa_num in range(len(loosers)):\n",
    "        if aa_num <= 6:\n",
    "            first = aa_num\n",
    "            second = 1\n",
    "        else:\n",
    "            first = aa_num - 7\n",
    "            second = 2\n",
    "        aa = loosers[aa_num]\n",
    "        if aa in gainers:\n",
    "            axs[first][second].plot(mutated_df[aa], color='red', label=aa)\n",
    "        elif aa in loosers:\n",
    "            axs[first][second].plot(mutated_df[aa], color='blue', label=aa)\n",
    "        else:\n",
    "            axs[first][second].plot(mutated_df[aa], color='black', label=aa)\n",
    "\n",
    "        axs[first][second].legend(loc=\"upper right\", fontsize=20)\n",
    "        axs[first][second].yaxis.set_major_locator(plt.MaxNLocator(2))\n",
    "        axs[first][second].yaxis.set_tick_params(labelsize=15)\n",
    "        \n",
    "    for aa_num in range(len(gainers)):\n",
    "        aa = gainers[aa_num]\n",
    "        if aa in gainers:\n",
    "            axs[aa_num][0].plot(mutated_df[aa], color='red', label=aa)\n",
    "        elif aa in loosers:\n",
    "            axs[aa_num][0].plot(mutated_df[aa], color='blue', label=aa)\n",
    "        else:\n",
    "            axs[aa_num][0].plot(mutated_df[aa], color='black', label=aa)\n",
    "\n",
    "        axs[aa_num][0].legend(loc=\"upper right\", fontsize=20)\n",
    "        axs[aa_num][0].yaxis.set_major_locator(plt.MaxNLocator(2))\n",
    "        axs[aa_num][0].yaxis.set_tick_params(labelsize=15)\n",
    "        \n",
    "    axs[5][0].xaxis.set_tick_params(labelsize=15)\n",
    "    axs[6][1].xaxis.set_tick_params(labelsize=15)\n",
    "    axs[6][2].xaxis.set_tick_params(labelsize=15)\n",
    "    plt.subplots_adjust(hspace=0)\n",
    "    plt.subplots_adjust(wspace=0.15)\n",
    "    axs[6,0].set_axis_off()\n",
    "        \n",
    "    plt.grid(False)\n",
    "    fig.supylabel(\"Proportion of Amino Acid in the genome\", x=0.08, size=20)\n",
    "    fig.supxlabel(\"Number of Generations\", y=0.09, size=20)\n",
    "    fig.suptitle(\"Mutation of the amino acid composition of SARS-CoV-2 according to the mutation spectrum\", y=0.90, size=23)\n",
    "    pdf.savefig(fig, bbox_inches='tight') "
   ]
  },
  {
   "cell_type": "code",
   "execution_count": null,
   "id": "76d687c0",
   "metadata": {},
   "outputs": [],
   "source": []
  }
 ],
 "metadata": {
  "kernelspec": {
   "display_name": "Python 3 (ipykernel)",
   "language": "python",
   "name": "python3"
  },
  "language_info": {
   "codemirror_mode": {
    "name": "ipython",
    "version": 3
   },
   "file_extension": ".py",
   "mimetype": "text/x-python",
   "name": "python",
   "nbconvert_exporter": "python",
   "pygments_lexer": "ipython3",
   "version": "3.11.1"
  }
 },
 "nbformat": 4,
 "nbformat_minor": 5
}
