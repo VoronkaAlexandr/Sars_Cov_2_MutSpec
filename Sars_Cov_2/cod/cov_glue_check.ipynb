{
 "cells": [
  {
   "cell_type": "code",
   "execution_count": 125,
   "id": "68e80782",
   "metadata": {},
   "outputs": [],
   "source": [
    "import requests\n",
    "import pandas as pd\n",
    "import numpy as np\n",
    "from bs4 import BeautifulSoup\n",
    "import matplotlib.pyplot as plt\n",
    "from sklearn.linear_model import LogisticRegression\n",
    "from sklearn.model_selection import train_test_split\n",
    "from scipy.stats import spearmanr\n",
    "import statsmodels.formula.api as smf\n",
    "import statsmodels.api as sm\n",
    "from sklearn.metrics import confusion_matrix, classification_report"
   ]
  },
  {
   "cell_type": "code",
   "execution_count": 2,
   "id": "7f288bc8",
   "metadata": {},
   "outputs": [],
   "source": [
    "with open(\"C:/Users/ASUS/Downloads/cov_glue.html\") as fp:\n",
    "    soup = BeautifulSoup(fp, 'html.parser')\n",
    "table1 = soup.find('table', id='mutTable')"
   ]
  },
  {
   "cell_type": "code",
   "execution_count": 3,
   "id": "4b04d3ce",
   "metadata": {},
   "outputs": [],
   "source": [
    "table=[]\n",
    "for i in table1.find_all('tr'):\n",
    "    line = []\n",
    "    for j in i.find_all('td'):\n",
    "        line.append(j.text)\n",
    "    table.append(line)"
   ]
  },
  {
   "cell_type": "code",
   "execution_count": 4,
   "id": "27e2e4eb",
   "metadata": {},
   "outputs": [],
   "source": [
    "headers = table[0]\n",
    "mut_table = table[1:]"
   ]
  },
  {
   "cell_type": "code",
   "execution_count": 5,
   "id": "3b2ce4d0",
   "metadata": {},
   "outputs": [],
   "source": [
    "df = pd.DataFrame(mut_table, columns = headers)"
   ]
  },
  {
   "cell_type": "code",
   "execution_count": 6,
   "id": "87d8d796",
   "metadata": {},
   "outputs": [],
   "source": [
    "df.to_csv(\"D:/Sars_Cov_2_MutSpec-main/Sars_Cov_2_MutSpec-main/Sars_Cov_2/new_data/data/cov_glue_mut.csv\")"
   ]
  },
  {
   "cell_type": "code",
   "execution_count": 7,
   "id": "2fcf7bc2",
   "metadata": {},
   "outputs": [],
   "source": [
    "df['AA_from'] = df['Mutation'].astype(str).str[0]\n",
    "df['AA_to'] = df['Mutation'].astype(str).str[-1]"
   ]
  },
  {
   "cell_type": "code",
   "execution_count": 8,
   "id": "f2cee226",
   "metadata": {},
   "outputs": [],
   "source": [
    "from_nuc=[]\n",
    "for codon in df['RefCodon']:\n",
    "    uppernuc=''\n",
    "    for nuc in codon:\n",
    "        if nuc.isupper():\n",
    "            uppernuc+=nuc\n",
    "    from_nuc.append(uppernuc)\n",
    "    \n",
    "to_nuc=[]\n",
    "for codon in df['MutCodon']:\n",
    "    uppernuc=''\n",
    "    for nuc in codon:\n",
    "        if nuc.isupper():\n",
    "            uppernuc+=nuc\n",
    "    to_nuc.append(uppernuc)"
   ]
  },
  {
   "cell_type": "code",
   "execution_count": 9,
   "id": "5058f478",
   "metadata": {},
   "outputs": [],
   "source": [
    "df['from_nuc'] = from_nuc\n",
    "df['to_nuc'] = to_nuc"
   ]
  },
  {
   "cell_type": "code",
   "execution_count": 10,
   "id": "993d0525",
   "metadata": {},
   "outputs": [],
   "source": [
    "df['mut_status'] = 0"
   ]
  },
  {
   "cell_type": "code",
   "execution_count": 11,
   "id": "d0fa0a90",
   "metadata": {},
   "outputs": [],
   "source": [
    "df.loc[((df['from_nuc'] == 'C') | (df['from_nuc'] == 'G')) & (df['to_nuc'] =='T'),'mut_status'] = 1\n",
    "df.loc[((df['to_nuc'] == 'C') | (df['to_nuc'] == 'G')) & (df['from_nuc'] =='T'),'mut_status'] = -1"
   ]
  },
  {
   "cell_type": "code",
   "execution_count": 12,
   "id": "10de91d3",
   "metadata": {},
   "outputs": [],
   "source": [
    "df[\"Proportion\"] = pd.to_numeric(df[\"Proportion\"])"
   ]
  },
  {
   "cell_type": "code",
   "execution_count": 13,
   "id": "eb5575ea",
   "metadata": {},
   "outputs": [],
   "source": [
    "df['prop_category'] = ''"
   ]
  },
  {
   "cell_type": "code",
   "execution_count": 14,
   "id": "e1dfc8c6",
   "metadata": {},
   "outputs": [],
   "source": [
    "df.loc[(df['Proportion'] >= 0.0001) & (df['Proportion'] < 0.001),'prop_category'] = '[0.0001;0.001)'\n",
    "df.loc[(df['Proportion'] >= 0.001) & (df['Proportion'] < 0.01),'prop_category'] = '[0.001;0.01)'\n",
    "df.loc[(df['Proportion'] >= 0.01) & (df['Proportion'] < 0.1),'prop_category'] = '[0.01;0.1)'\n",
    "df.loc[(df['Proportion'] >= 0.1),'prop_category'] = '>=0.1'\n",
    "df.loc[(df['Proportion'] < 0.0001),'prop_category'] = '<0.0001'"
   ]
  },
  {
   "cell_type": "code",
   "execution_count": 15,
   "id": "e835ef3d",
   "metadata": {
    "scrolled": true
   },
   "outputs": [
    {
     "data": {
      "text/html": [
       "<div>\n",
       "<style scoped>\n",
       "    .dataframe tbody tr th:only-of-type {\n",
       "        vertical-align: middle;\n",
       "    }\n",
       "\n",
       "    .dataframe tbody tr th {\n",
       "        vertical-align: top;\n",
       "    }\n",
       "\n",
       "    .dataframe thead th {\n",
       "        text-align: right;\n",
       "    }\n",
       "</style>\n",
       "<table border=\"1\" class=\"dataframe\">\n",
       "  <thead>\n",
       "    <tr style=\"text-align: right;\">\n",
       "      <th></th>\n",
       "      <th>Lineage</th>\n",
       "      <th>ORF</th>\n",
       "      <th>CodonNum</th>\n",
       "      <th>Mutation</th>\n",
       "      <th>ORF1ab</th>\n",
       "      <th>MutType</th>\n",
       "      <th>C1</th>\n",
       "      <th>C2</th>\n",
       "      <th>C3</th>\n",
       "      <th>RefCodon</th>\n",
       "      <th>MutCodon</th>\n",
       "      <th>Count</th>\n",
       "      <th>Proportion</th>\n",
       "      <th>AA_from</th>\n",
       "      <th>AA_to</th>\n",
       "      <th>from_nuc</th>\n",
       "      <th>to_nuc</th>\n",
       "      <th>mut_status</th>\n",
       "      <th>prop_category</th>\n",
       "    </tr>\n",
       "  </thead>\n",
       "  <tbody>\n",
       "    <tr>\n",
       "      <th>0</th>\n",
       "      <td>All</td>\n",
       "      <td>S</td>\n",
       "      <td>614</td>\n",
       "      <td>D614G</td>\n",
       "      <td></td>\n",
       "      <td>nonsyn</td>\n",
       "      <td>23402</td>\n",
       "      <td>23403</td>\n",
       "      <td>23404</td>\n",
       "      <td>gAt</td>\n",
       "      <td>gGt</td>\n",
       "      <td>5182511</td>\n",
       "      <td>0.991216</td>\n",
       "      <td>D</td>\n",
       "      <td>G</td>\n",
       "      <td>A</td>\n",
       "      <td>G</td>\n",
       "      <td>0</td>\n",
       "      <td>&gt;=0.1</td>\n",
       "    </tr>\n",
       "    <tr>\n",
       "      <th>1</th>\n",
       "      <td>All</td>\n",
       "      <td>ORF1ab/nsp12</td>\n",
       "      <td>323</td>\n",
       "      <td>P323L</td>\n",
       "      <td>P4715L</td>\n",
       "      <td>nonsyn</td>\n",
       "      <td>14407</td>\n",
       "      <td>14408</td>\n",
       "      <td>14409</td>\n",
       "      <td>cCt</td>\n",
       "      <td>cTt</td>\n",
       "      <td>5144375</td>\n",
       "      <td>0.983923</td>\n",
       "      <td>P</td>\n",
       "      <td>L</td>\n",
       "      <td>C</td>\n",
       "      <td>T</td>\n",
       "      <td>1</td>\n",
       "      <td>&gt;=0.1</td>\n",
       "    </tr>\n",
       "    <tr>\n",
       "      <th>2</th>\n",
       "      <td>All</td>\n",
       "      <td>S</td>\n",
       "      <td>452</td>\n",
       "      <td>L452R</td>\n",
       "      <td></td>\n",
       "      <td>nonsyn</td>\n",
       "      <td>22916</td>\n",
       "      <td>22917</td>\n",
       "      <td>22918</td>\n",
       "      <td>cTg</td>\n",
       "      <td>cGg</td>\n",
       "      <td>2772069</td>\n",
       "      <td>0.530191</td>\n",
       "      <td>L</td>\n",
       "      <td>R</td>\n",
       "      <td>T</td>\n",
       "      <td>G</td>\n",
       "      <td>-1</td>\n",
       "      <td>&gt;=0.1</td>\n",
       "    </tr>\n",
       "    <tr>\n",
       "      <th>3</th>\n",
       "      <td>All</td>\n",
       "      <td>M</td>\n",
       "      <td>82</td>\n",
       "      <td>I82T</td>\n",
       "      <td></td>\n",
       "      <td>nonsyn</td>\n",
       "      <td>26766</td>\n",
       "      <td>26767</td>\n",
       "      <td>26768</td>\n",
       "      <td>aTc</td>\n",
       "      <td>aCc</td>\n",
       "      <td>2769241</td>\n",
       "      <td>0.529650</td>\n",
       "      <td>I</td>\n",
       "      <td>T</td>\n",
       "      <td>T</td>\n",
       "      <td>C</td>\n",
       "      <td>-1</td>\n",
       "      <td>&gt;=0.1</td>\n",
       "    </tr>\n",
       "    <tr>\n",
       "      <th>4</th>\n",
       "      <td>All</td>\n",
       "      <td>S</td>\n",
       "      <td>681</td>\n",
       "      <td>P681R</td>\n",
       "      <td></td>\n",
       "      <td>nonsyn</td>\n",
       "      <td>23603</td>\n",
       "      <td>23604</td>\n",
       "      <td>23605</td>\n",
       "      <td>cCt</td>\n",
       "      <td>cGt</td>\n",
       "      <td>2762560</td>\n",
       "      <td>0.528372</td>\n",
       "      <td>P</td>\n",
       "      <td>R</td>\n",
       "      <td>C</td>\n",
       "      <td>G</td>\n",
       "      <td>0</td>\n",
       "      <td>&gt;=0.1</td>\n",
       "    </tr>\n",
       "    <tr>\n",
       "      <th>...</th>\n",
       "      <td>...</td>\n",
       "      <td>...</td>\n",
       "      <td>...</td>\n",
       "      <td>...</td>\n",
       "      <td>...</td>\n",
       "      <td>...</td>\n",
       "      <td>...</td>\n",
       "      <td>...</td>\n",
       "      <td>...</td>\n",
       "      <td>...</td>\n",
       "      <td>...</td>\n",
       "      <td>...</td>\n",
       "      <td>...</td>\n",
       "      <td>...</td>\n",
       "      <td>...</td>\n",
       "      <td>...</td>\n",
       "      <td>...</td>\n",
       "      <td>...</td>\n",
       "      <td>...</td>\n",
       "    </tr>\n",
       "    <tr>\n",
       "      <th>5347</th>\n",
       "      <td>All</td>\n",
       "      <td>ORF1ab/nsp6</td>\n",
       "      <td>129</td>\n",
       "      <td>R129K</td>\n",
       "      <td>R3698K</td>\n",
       "      <td>nonsyn</td>\n",
       "      <td>11357</td>\n",
       "      <td>11358</td>\n",
       "      <td>11359</td>\n",
       "      <td>aGa</td>\n",
       "      <td>aAa</td>\n",
       "      <td>526</td>\n",
       "      <td>0.000101</td>\n",
       "      <td>R</td>\n",
       "      <td>K</td>\n",
       "      <td>G</td>\n",
       "      <td>A</td>\n",
       "      <td>0</td>\n",
       "      <td>[0.0001;0.001)</td>\n",
       "    </tr>\n",
       "    <tr>\n",
       "      <th>5348</th>\n",
       "      <td>All</td>\n",
       "      <td>ORF1ab/nsp12</td>\n",
       "      <td>847</td>\n",
       "      <td>I847V</td>\n",
       "      <td>I5239V</td>\n",
       "      <td>nonsyn</td>\n",
       "      <td>15979</td>\n",
       "      <td>15980</td>\n",
       "      <td>15981</td>\n",
       "      <td>Atc</td>\n",
       "      <td>Gtc</td>\n",
       "      <td>528</td>\n",
       "      <td>0.000101</td>\n",
       "      <td>I</td>\n",
       "      <td>V</td>\n",
       "      <td>A</td>\n",
       "      <td>G</td>\n",
       "      <td>0</td>\n",
       "      <td>[0.0001;0.001)</td>\n",
       "    </tr>\n",
       "    <tr>\n",
       "      <th>5349</th>\n",
       "      <td>All</td>\n",
       "      <td>ORF1ab/nsp12</td>\n",
       "      <td>928</td>\n",
       "      <td>H928Y</td>\n",
       "      <td>H5320Y</td>\n",
       "      <td>nonsyn</td>\n",
       "      <td>16222</td>\n",
       "      <td>16223</td>\n",
       "      <td>16224</td>\n",
       "      <td>Cat</td>\n",
       "      <td>Tat</td>\n",
       "      <td>528</td>\n",
       "      <td>0.000101</td>\n",
       "      <td>H</td>\n",
       "      <td>Y</td>\n",
       "      <td>C</td>\n",
       "      <td>T</td>\n",
       "      <td>1</td>\n",
       "      <td>[0.0001;0.001)</td>\n",
       "    </tr>\n",
       "    <tr>\n",
       "      <th>5350</th>\n",
       "      <td>All</td>\n",
       "      <td>ORF1ab/nsp14A2-B</td>\n",
       "      <td>474</td>\n",
       "      <td>I474V</td>\n",
       "      <td>I6399V</td>\n",
       "      <td>nonsyn</td>\n",
       "      <td>19459</td>\n",
       "      <td>19460</td>\n",
       "      <td>19461</td>\n",
       "      <td>Ata</td>\n",
       "      <td>Gta</td>\n",
       "      <td>529</td>\n",
       "      <td>0.000101</td>\n",
       "      <td>I</td>\n",
       "      <td>V</td>\n",
       "      <td>A</td>\n",
       "      <td>G</td>\n",
       "      <td>0</td>\n",
       "      <td>[0.0001;0.001)</td>\n",
       "    </tr>\n",
       "    <tr>\n",
       "      <th>5351</th>\n",
       "      <td>All</td>\n",
       "      <td>ORF1ab/nsp15A1-B</td>\n",
       "      <td>146</td>\n",
       "      <td>G146C</td>\n",
       "      <td>G6598C</td>\n",
       "      <td>nonsyn</td>\n",
       "      <td>20056</td>\n",
       "      <td>20057</td>\n",
       "      <td>20058</td>\n",
       "      <td>Ggt</td>\n",
       "      <td>Tgt</td>\n",
       "      <td>528</td>\n",
       "      <td>0.000101</td>\n",
       "      <td>G</td>\n",
       "      <td>C</td>\n",
       "      <td>G</td>\n",
       "      <td>T</td>\n",
       "      <td>1</td>\n",
       "      <td>[0.0001;0.001)</td>\n",
       "    </tr>\n",
       "  </tbody>\n",
       "</table>\n",
       "<p>5352 rows × 19 columns</p>\n",
       "</div>"
      ],
      "text/plain": [
       "     Lineage               ORF CodonNum Mutation  ORF1ab MutType     C1  \\\n",
       "0        All                 S      614    D614G          nonsyn  23402   \n",
       "1        All      ORF1ab/nsp12      323    P323L  P4715L  nonsyn  14407   \n",
       "2        All                 S      452    L452R          nonsyn  22916   \n",
       "3        All                 M       82     I82T          nonsyn  26766   \n",
       "4        All                 S      681    P681R          nonsyn  23603   \n",
       "...      ...               ...      ...      ...     ...     ...    ...   \n",
       "5347     All       ORF1ab/nsp6      129    R129K  R3698K  nonsyn  11357   \n",
       "5348     All      ORF1ab/nsp12      847    I847V  I5239V  nonsyn  15979   \n",
       "5349     All      ORF1ab/nsp12      928    H928Y  H5320Y  nonsyn  16222   \n",
       "5350     All  ORF1ab/nsp14A2-B      474    I474V  I6399V  nonsyn  19459   \n",
       "5351     All  ORF1ab/nsp15A1-B      146    G146C  G6598C  nonsyn  20056   \n",
       "\n",
       "         C2     C3 RefCodon MutCodon    Count  Proportion AA_from AA_to  \\\n",
       "0     23403  23404      gAt      gGt  5182511    0.991216       D     G   \n",
       "1     14408  14409      cCt      cTt  5144375    0.983923       P     L   \n",
       "2     22917  22918      cTg      cGg  2772069    0.530191       L     R   \n",
       "3     26767  26768      aTc      aCc  2769241    0.529650       I     T   \n",
       "4     23604  23605      cCt      cGt  2762560    0.528372       P     R   \n",
       "...     ...    ...      ...      ...      ...         ...     ...   ...   \n",
       "5347  11358  11359      aGa      aAa      526    0.000101       R     K   \n",
       "5348  15980  15981      Atc      Gtc      528    0.000101       I     V   \n",
       "5349  16223  16224      Cat      Tat      528    0.000101       H     Y   \n",
       "5350  19460  19461      Ata      Gta      529    0.000101       I     V   \n",
       "5351  20057  20058      Ggt      Tgt      528    0.000101       G     C   \n",
       "\n",
       "     from_nuc to_nuc  mut_status   prop_category  \n",
       "0           A      G           0           >=0.1  \n",
       "1           C      T           1           >=0.1  \n",
       "2           T      G          -1           >=0.1  \n",
       "3           T      C          -1           >=0.1  \n",
       "4           C      G           0           >=0.1  \n",
       "...       ...    ...         ...             ...  \n",
       "5347        G      A           0  [0.0001;0.001)  \n",
       "5348        A      G           0  [0.0001;0.001)  \n",
       "5349        C      T           1  [0.0001;0.001)  \n",
       "5350        A      G           0  [0.0001;0.001)  \n",
       "5351        G      T           1  [0.0001;0.001)  \n",
       "\n",
       "[5352 rows x 19 columns]"
      ]
     },
     "execution_count": 15,
     "metadata": {},
     "output_type": "execute_result"
    }
   ],
   "source": [
    "df"
   ]
  },
  {
   "cell_type": "code",
   "execution_count": 16,
   "id": "c872708a",
   "metadata": {},
   "outputs": [
    {
     "data": {
      "image/png": "[encoded data removed]",
      "text/plain": [
       "<Figure size 432x288 with 1 Axes>"
      ]
     },
     "metadata": {
      "needs_background": "light"
     },
     "output_type": "display_data"
    },
    {
     "data": {
      "image/png": "[encoded data removed]",
      "text/plain": [
       "<Figure size 432x288 with 1 Axes>"
      ]
     },
     "metadata": {
      "needs_background": "light"
     },
     "output_type": "display_data"
    },
    {
     "data": {
      "image/png": "[encoded data removed]",
      "text/plain": [
       "<Figure size 432x288 with 1 Axes>"
      ]
     },
     "metadata": {
      "needs_background": "light"
     },
     "output_type": "display_data"
    },
    {
     "data": {
      "image/png": "[encoded data removed]",
      "text/plain": [
       "<Figure size 432x288 with 1 Axes>"
      ]
     },
     "metadata": {
      "needs_background": "light"
     },
     "output_type": "display_data"
    }
   ],
   "source": [
    "df.loc[df['mut_status']==0,'mut_status_char']=\"unknown\"\n",
    "df.loc[df['mut_status']==1,'mut_status_char']=\"C>U G>U\"\n",
    "df.loc[df['mut_status']==-1,'mut_status_char']=\"U>C U>G\"\n",
    "for categor in df['prop_category'].unique():\n",
    "    df[df['prop_category'] == categor]['mut_status_char'].value_counts().plot(kind='bar', rot=0)\n",
    "    plt.title('Proportion '+categor)\n",
    "    plt.show()\n",
    "    plt.close()"
   ]
  },
  {
   "cell_type": "code",
   "execution_count": 17,
   "id": "5a59137f",
   "metadata": {},
   "outputs": [
    {
     "data": {
      "text/plain": [
       "C>U G>U    2897\n",
       "unknown    2065\n",
       "U>C U>G     390\n",
       "Name: mut_status_char, dtype: int64"
      ]
     },
     "execution_count": 17,
     "metadata": {},
     "output_type": "execute_result"
    }
   ],
   "source": [
    "df['mut_status_char'].value_counts()"
   ]
  },
  {
   "cell_type": "markdown",
   "id": "1be4b77d",
   "metadata": {},
   "source": [
    "Всего C>U G>U мутаций 2897. В обратную сторону 390. Остальное - другие мутации (2065). Если разделять по Proportion, видно, что всего C>U G>U выше чем в обратную сторону."
   ]
  },
  {
   "cell_type": "markdown",
   "id": "99e0ca37",
   "metadata": {},
   "source": [
    "Далее логистическая регрессия, за x берем Proportion, за y - статус мутации (1 - C>U/G>U, -1 - U>G/U>C, 0 - прочее)"
   ]
  },
  {
   "cell_type": "code",
   "execution_count": 18,
   "id": "560f4f46",
   "metadata": {},
   "outputs": [],
   "source": [
    "x = df['Proportion']\n",
    "y = df['mut_status']\n",
    "\n",
    "x_train, x_test, y_train, y_test = train_test_split(x, y, test_size=0.25, random_state=12345)\n",
    "x_train= x_train.values.reshape(-1, 1)\n",
    "x_test = x_test.values.reshape(-1, 1)"
   ]
  },
  {
   "cell_type": "code",
   "execution_count": 19,
   "id": "0cf503e7",
   "metadata": {},
   "outputs": [],
   "source": [
    "model = LogisticRegression(random_state=12345).fit(x_train, y_train)"
   ]
  },
  {
   "cell_type": "code",
   "execution_count": 20,
   "id": "ff9b148c",
   "metadata": {},
   "outputs": [],
   "source": [
    "y_predict = model.predict(x_test)"
   ]
  },
  {
   "cell_type": "code",
   "execution_count": 21,
   "id": "601a8bd3",
   "metadata": {},
   "outputs": [
    {
     "data": {
      "text/plain": [
       "array([[0.000352],\n",
       "       [0.000118],\n",
       "       [0.000394],\n",
       "       ...,\n",
       "       [0.000361],\n",
       "       [0.000181],\n",
       "       [0.000127]])"
      ]
     },
     "execution_count": 21,
     "metadata": {},
     "output_type": "execute_result"
    }
   ],
   "source": [
    "x_train"
   ]
  },
  {
   "cell_type": "code",
   "execution_count": 22,
   "id": "29da7e77",
   "metadata": {},
   "outputs": [
    {
     "data": {
      "text/plain": [
       " 1    2177\n",
       " 0    1546\n",
       "-1     291\n",
       "Name: mut_status, dtype: int64"
      ]
     },
     "execution_count": 22,
     "metadata": {},
     "output_type": "execute_result"
    }
   ],
   "source": [
    "y_train.value_counts()"
   ]
  },
  {
   "cell_type": "code",
   "execution_count": 23,
   "id": "6a9afc55",
   "metadata": {},
   "outputs": [],
   "source": [
    "errors = 0\n",
    "for answer_num in range(len(y_predict)):\n",
    "    if y_test.values[answer_num] != y_predict[answer_num]:\n",
    "        errors+=1"
   ]
  },
  {
   "cell_type": "code",
   "execution_count": 24,
   "id": "ade89a37",
   "metadata": {},
   "outputs": [
    {
     "name": "stdout",
     "output_type": "stream",
     "text": [
      "Число ошибок -  618  Процент ошибок - 46.18834080717489 %\n"
     ]
    }
   ],
   "source": [
    "print('Число ошибок - ', errors, \" Процент ошибок -\", errors/len(y_predict)*100,'%')"
   ]
  },
  {
   "cell_type": "code",
   "execution_count": 25,
   "id": "119d2df0",
   "metadata": {},
   "outputs": [],
   "source": [
    "unique, counts = np.unique(y_predict, return_counts=True)"
   ]
  },
  {
   "cell_type": "code",
   "execution_count": 26,
   "id": "b07f80f8",
   "metadata": {},
   "outputs": [
    {
     "name": "stdout",
     "output_type": "stream",
     "text": [
      "[[   1 1338]]\n"
     ]
    }
   ],
   "source": [
    "print(np.asarray((unique, counts)).T)"
   ]
  },
  {
   "cell_type": "markdown",
   "id": "a59a202d",
   "metadata": {},
   "source": [
    "Модель предсказала одни еденицы"
   ]
  },
  {
   "cell_type": "markdown",
   "id": "ea305e45",
   "metadata": {},
   "source": [
    "Вывод - с помощью Proportion нельзя предсказать будет ли мутация по мутспеку или против, она от этого не зависит."
   ]
  },
  {
   "cell_type": "markdown",
   "id": "44fa2df1",
   "metadata": {},
   "source": [
    "## Часть 2"
   ]
  },
  {
   "cell_type": "markdown",
   "id": "d7302a1b",
   "metadata": {},
   "source": [
    "Разделяю proportion на 10 частей и выстраиваю от наименее содержащих мутации C>U к наиболее содержащих"
   ]
  },
  {
   "cell_type": "code",
   "execution_count": 60,
   "id": "ddeb01e4",
   "metadata": {},
   "outputs": [],
   "source": [
    "df = df.sort_values(by = \"Proportion\").reset_index(drop=True)"
   ]
  },
  {
   "cell_type": "markdown",
   "id": "2bb88e25",
   "metadata": {},
   "source": [
    "Далее нарезаем датасет по 500 мутаций, в последнем будет 852."
   ]
  },
  {
   "cell_type": "code",
   "execution_count": 61,
   "id": "1a0f1233",
   "metadata": {},
   "outputs": [
    {
     "data": {
      "text/html": [
       "<div>\n",
       "<style scoped>\n",
       "    .dataframe tbody tr th:only-of-type {\n",
       "        vertical-align: middle;\n",
       "    }\n",
       "\n",
       "    .dataframe tbody tr th {\n",
       "        vertical-align: top;\n",
       "    }\n",
       "\n",
       "    .dataframe thead th {\n",
       "        text-align: right;\n",
       "    }\n",
       "</style>\n",
       "<table border=\"1\" class=\"dataframe\">\n",
       "  <thead>\n",
       "    <tr style=\"text-align: right;\">\n",
       "      <th></th>\n",
       "      <th>Lineage</th>\n",
       "      <th>ORF</th>\n",
       "      <th>CodonNum</th>\n",
       "      <th>Mutation</th>\n",
       "      <th>ORF1ab</th>\n",
       "      <th>MutType</th>\n",
       "      <th>C1</th>\n",
       "      <th>C2</th>\n",
       "      <th>C3</th>\n",
       "      <th>RefCodon</th>\n",
       "      <th>...</th>\n",
       "      <th>Count</th>\n",
       "      <th>Proportion</th>\n",
       "      <th>AA_from</th>\n",
       "      <th>AA_to</th>\n",
       "      <th>from_nuc</th>\n",
       "      <th>to_nuc</th>\n",
       "      <th>mut_status</th>\n",
       "      <th>prop_category</th>\n",
       "      <th>mut_status_char</th>\n",
       "      <th>deciles</th>\n",
       "    </tr>\n",
       "  </thead>\n",
       "  <tbody>\n",
       "    <tr>\n",
       "      <th>0</th>\n",
       "      <td>All</td>\n",
       "      <td>ORF1ab/nsp15A1-B</td>\n",
       "      <td>146</td>\n",
       "      <td>G146C</td>\n",
       "      <td>G6598C</td>\n",
       "      <td>nonsyn</td>\n",
       "      <td>20056</td>\n",
       "      <td>20057</td>\n",
       "      <td>20058</td>\n",
       "      <td>Ggt</td>\n",
       "      <td>...</td>\n",
       "      <td>528</td>\n",
       "      <td>0.000101</td>\n",
       "      <td>G</td>\n",
       "      <td>C</td>\n",
       "      <td>G</td>\n",
       "      <td>T</td>\n",
       "      <td>1</td>\n",
       "      <td>[0.0001;0.001)</td>\n",
       "      <td>C&gt;U G&gt;U</td>\n",
       "      <td>deciles1__0.000101&gt;&gt;0.0992125</td>\n",
       "    </tr>\n",
       "    <tr>\n",
       "      <th>1</th>\n",
       "      <td>All</td>\n",
       "      <td>ORF1ab/nsp3</td>\n",
       "      <td>501</td>\n",
       "      <td>K501E</td>\n",
       "      <td>K1319E</td>\n",
       "      <td>nonsyn</td>\n",
       "      <td>4220</td>\n",
       "      <td>4221</td>\n",
       "      <td>4222</td>\n",
       "      <td>Aaa</td>\n",
       "      <td>...</td>\n",
       "      <td>530</td>\n",
       "      <td>0.000101</td>\n",
       "      <td>K</td>\n",
       "      <td>E</td>\n",
       "      <td>A</td>\n",
       "      <td>G</td>\n",
       "      <td>0</td>\n",
       "      <td>[0.0001;0.001)</td>\n",
       "      <td>unknown</td>\n",
       "      <td>deciles1__0.000101&gt;&gt;0.0992125</td>\n",
       "    </tr>\n",
       "    <tr>\n",
       "      <th>2</th>\n",
       "      <td>All</td>\n",
       "      <td>N</td>\n",
       "      <td>344</td>\n",
       "      <td>P344L</td>\n",
       "      <td></td>\n",
       "      <td>nonsyn</td>\n",
       "      <td>29303</td>\n",
       "      <td>29304</td>\n",
       "      <td>29305</td>\n",
       "      <td>cCa</td>\n",
       "      <td>...</td>\n",
       "      <td>526</td>\n",
       "      <td>0.000101</td>\n",
       "      <td>P</td>\n",
       "      <td>L</td>\n",
       "      <td>C</td>\n",
       "      <td>T</td>\n",
       "      <td>1</td>\n",
       "      <td>[0.0001;0.001)</td>\n",
       "      <td>C&gt;U G&gt;U</td>\n",
       "      <td>deciles1__0.000101&gt;&gt;0.0992125</td>\n",
       "    </tr>\n",
       "    <tr>\n",
       "      <th>3</th>\n",
       "      <td>All</td>\n",
       "      <td>N</td>\n",
       "      <td>380</td>\n",
       "      <td>Q380L</td>\n",
       "      <td></td>\n",
       "      <td>nonsyn</td>\n",
       "      <td>29411</td>\n",
       "      <td>29412</td>\n",
       "      <td>29413</td>\n",
       "      <td>cAa</td>\n",
       "      <td>...</td>\n",
       "      <td>529</td>\n",
       "      <td>0.000101</td>\n",
       "      <td>Q</td>\n",
       "      <td>L</td>\n",
       "      <td>A</td>\n",
       "      <td>T</td>\n",
       "      <td>0</td>\n",
       "      <td>[0.0001;0.001)</td>\n",
       "      <td>unknown</td>\n",
       "      <td>deciles1__0.000101&gt;&gt;0.0992125</td>\n",
       "    </tr>\n",
       "    <tr>\n",
       "      <th>4</th>\n",
       "      <td>All</td>\n",
       "      <td>ORF1ab/nsp2</td>\n",
       "      <td>92</td>\n",
       "      <td>N92S</td>\n",
       "      <td>N272S</td>\n",
       "      <td>nonsyn</td>\n",
       "      <td>1079</td>\n",
       "      <td>1080</td>\n",
       "      <td>1081</td>\n",
       "      <td>aAt</td>\n",
       "      <td>...</td>\n",
       "      <td>530</td>\n",
       "      <td>0.000101</td>\n",
       "      <td>N</td>\n",
       "      <td>S</td>\n",
       "      <td>A</td>\n",
       "      <td>G</td>\n",
       "      <td>0</td>\n",
       "      <td>[0.0001;0.001)</td>\n",
       "      <td>unknown</td>\n",
       "      <td>deciles1__0.000101&gt;&gt;0.0992125</td>\n",
       "    </tr>\n",
       "    <tr>\n",
       "      <th>...</th>\n",
       "      <td>...</td>\n",
       "      <td>...</td>\n",
       "      <td>...</td>\n",
       "      <td>...</td>\n",
       "      <td>...</td>\n",
       "      <td>...</td>\n",
       "      <td>...</td>\n",
       "      <td>...</td>\n",
       "      <td>...</td>\n",
       "      <td>...</td>\n",
       "      <td>...</td>\n",
       "      <td>...</td>\n",
       "      <td>...</td>\n",
       "      <td>...</td>\n",
       "      <td>...</td>\n",
       "      <td>...</td>\n",
       "      <td>...</td>\n",
       "      <td>...</td>\n",
       "      <td>...</td>\n",
       "      <td>...</td>\n",
       "      <td>...</td>\n",
       "    </tr>\n",
       "    <tr>\n",
       "      <th>5347</th>\n",
       "      <td>All</td>\n",
       "      <td>S</td>\n",
       "      <td>681</td>\n",
       "      <td>P681R</td>\n",
       "      <td></td>\n",
       "      <td>nonsyn</td>\n",
       "      <td>23603</td>\n",
       "      <td>23604</td>\n",
       "      <td>23605</td>\n",
       "      <td>cCt</td>\n",
       "      <td>...</td>\n",
       "      <td>2762560</td>\n",
       "      <td>0.528372</td>\n",
       "      <td>P</td>\n",
       "      <td>R</td>\n",
       "      <td>C</td>\n",
       "      <td>G</td>\n",
       "      <td>0</td>\n",
       "      <td>&gt;=0.1</td>\n",
       "      <td>unknown</td>\n",
       "      <td>deciles6__0.4956585&gt;&gt;0.5947699999999999</td>\n",
       "    </tr>\n",
       "    <tr>\n",
       "      <th>5348</th>\n",
       "      <td>All</td>\n",
       "      <td>M</td>\n",
       "      <td>82</td>\n",
       "      <td>I82T</td>\n",
       "      <td></td>\n",
       "      <td>nonsyn</td>\n",
       "      <td>26766</td>\n",
       "      <td>26767</td>\n",
       "      <td>26768</td>\n",
       "      <td>aTc</td>\n",
       "      <td>...</td>\n",
       "      <td>2769241</td>\n",
       "      <td>0.529650</td>\n",
       "      <td>I</td>\n",
       "      <td>T</td>\n",
       "      <td>T</td>\n",
       "      <td>C</td>\n",
       "      <td>-1</td>\n",
       "      <td>&gt;=0.1</td>\n",
       "      <td>U&gt;C U&gt;G</td>\n",
       "      <td>deciles6__0.4956585&gt;&gt;0.5947699999999999</td>\n",
       "    </tr>\n",
       "    <tr>\n",
       "      <th>5349</th>\n",
       "      <td>All</td>\n",
       "      <td>S</td>\n",
       "      <td>452</td>\n",
       "      <td>L452R</td>\n",
       "      <td></td>\n",
       "      <td>nonsyn</td>\n",
       "      <td>22916</td>\n",
       "      <td>22917</td>\n",
       "      <td>22918</td>\n",
       "      <td>cTg</td>\n",
       "      <td>...</td>\n",
       "      <td>2772069</td>\n",
       "      <td>0.530191</td>\n",
       "      <td>L</td>\n",
       "      <td>R</td>\n",
       "      <td>T</td>\n",
       "      <td>G</td>\n",
       "      <td>-1</td>\n",
       "      <td>&gt;=0.1</td>\n",
       "      <td>U&gt;C U&gt;G</td>\n",
       "      <td>deciles6__0.4956585&gt;&gt;0.5947699999999999</td>\n",
       "    </tr>\n",
       "    <tr>\n",
       "      <th>5350</th>\n",
       "      <td>All</td>\n",
       "      <td>ORF1ab/nsp12</td>\n",
       "      <td>323</td>\n",
       "      <td>P323L</td>\n",
       "      <td>P4715L</td>\n",
       "      <td>nonsyn</td>\n",
       "      <td>14407</td>\n",
       "      <td>14408</td>\n",
       "      <td>14409</td>\n",
       "      <td>cCt</td>\n",
       "      <td>...</td>\n",
       "      <td>5144375</td>\n",
       "      <td>0.983923</td>\n",
       "      <td>P</td>\n",
       "      <td>L</td>\n",
       "      <td>C</td>\n",
       "      <td>T</td>\n",
       "      <td>1</td>\n",
       "      <td>&gt;=0.1</td>\n",
       "      <td>C&gt;U G&gt;U</td>\n",
       "      <td>deciles10__0.8921045&gt;&gt;0.991216</td>\n",
       "    </tr>\n",
       "    <tr>\n",
       "      <th>5351</th>\n",
       "      <td>All</td>\n",
       "      <td>S</td>\n",
       "      <td>614</td>\n",
       "      <td>D614G</td>\n",
       "      <td></td>\n",
       "      <td>nonsyn</td>\n",
       "      <td>23402</td>\n",
       "      <td>23403</td>\n",
       "      <td>23404</td>\n",
       "      <td>gAt</td>\n",
       "      <td>...</td>\n",
       "      <td>5182511</td>\n",
       "      <td>0.991216</td>\n",
       "      <td>D</td>\n",
       "      <td>G</td>\n",
       "      <td>A</td>\n",
       "      <td>G</td>\n",
       "      <td>0</td>\n",
       "      <td>&gt;=0.1</td>\n",
       "      <td>unknown</td>\n",
       "      <td>deciles10__0.8921045&gt;&gt;0.991216</td>\n",
       "    </tr>\n",
       "  </tbody>\n",
       "</table>\n",
       "<p>5352 rows × 21 columns</p>\n",
       "</div>"
      ],
      "text/plain": [
       "     Lineage               ORF CodonNum Mutation  ORF1ab MutType     C1  \\\n",
       "0        All  ORF1ab/nsp15A1-B      146    G146C  G6598C  nonsyn  20056   \n",
       "1        All       ORF1ab/nsp3      501    K501E  K1319E  nonsyn   4220   \n",
       "2        All                 N      344    P344L          nonsyn  29303   \n",
       "3        All                 N      380    Q380L          nonsyn  29411   \n",
       "4        All       ORF1ab/nsp2       92     N92S   N272S  nonsyn   1079   \n",
       "...      ...               ...      ...      ...     ...     ...    ...   \n",
       "5347     All                 S      681    P681R          nonsyn  23603   \n",
       "5348     All                 M       82     I82T          nonsyn  26766   \n",
       "5349     All                 S      452    L452R          nonsyn  22916   \n",
       "5350     All      ORF1ab/nsp12      323    P323L  P4715L  nonsyn  14407   \n",
       "5351     All                 S      614    D614G          nonsyn  23402   \n",
       "\n",
       "         C2     C3 RefCodon  ...    Count Proportion  AA_from AA_to from_nuc  \\\n",
       "0     20057  20058      Ggt  ...      528   0.000101        G     C        G   \n",
       "1      4221   4222      Aaa  ...      530   0.000101        K     E        A   \n",
       "2     29304  29305      cCa  ...      526   0.000101        P     L        C   \n",
       "3     29412  29413      cAa  ...      529   0.000101        Q     L        A   \n",
       "4      1080   1081      aAt  ...      530   0.000101        N     S        A   \n",
       "...     ...    ...      ...  ...      ...        ...      ...   ...      ...   \n",
       "5347  23604  23605      cCt  ...  2762560   0.528372        P     R        C   \n",
       "5348  26767  26768      aTc  ...  2769241   0.529650        I     T        T   \n",
       "5349  22917  22918      cTg  ...  2772069   0.530191        L     R        T   \n",
       "5350  14408  14409      cCt  ...  5144375   0.983923        P     L        C   \n",
       "5351  23403  23404      gAt  ...  5182511   0.991216        D     G        A   \n",
       "\n",
       "     to_nuc mut_status   prop_category mut_status_char  \\\n",
       "0         T          1  [0.0001;0.001)         C>U G>U   \n",
       "1         G          0  [0.0001;0.001)         unknown   \n",
       "2         T          1  [0.0001;0.001)         C>U G>U   \n",
       "3         T          0  [0.0001;0.001)         unknown   \n",
       "4         G          0  [0.0001;0.001)         unknown   \n",
       "...     ...        ...             ...             ...   \n",
       "5347      G          0           >=0.1         unknown   \n",
       "5348      C         -1           >=0.1         U>C U>G   \n",
       "5349      G         -1           >=0.1         U>C U>G   \n",
       "5350      T          1           >=0.1         C>U G>U   \n",
       "5351      G          0           >=0.1         unknown   \n",
       "\n",
       "                                      deciles  \n",
       "0               deciles1__0.000101>>0.0992125  \n",
       "1               deciles1__0.000101>>0.0992125  \n",
       "2               deciles1__0.000101>>0.0992125  \n",
       "3               deciles1__0.000101>>0.0992125  \n",
       "4               deciles1__0.000101>>0.0992125  \n",
       "...                                       ...  \n",
       "5347  deciles6__0.4956585>>0.5947699999999999  \n",
       "5348  deciles6__0.4956585>>0.5947699999999999  \n",
       "5349  deciles6__0.4956585>>0.5947699999999999  \n",
       "5350           deciles10__0.8921045>>0.991216  \n",
       "5351           deciles10__0.8921045>>0.991216  \n",
       "\n",
       "[5352 rows x 21 columns]"
      ]
     },
     "execution_count": 61,
     "metadata": {},
     "output_type": "execute_result"
    }
   ],
   "source": [
    "df"
   ]
  },
  {
   "cell_type": "code",
   "execution_count": 68,
   "id": "e596e9a9",
   "metadata": {},
   "outputs": [
    {
     "name": "stderr",
     "output_type": "stream",
     "text": [
      "C:\\Users\\ASUS\\AppData\\Local\\Temp/ipykernel_3768/3255846947.py:6: SettingWithCopyWarning: \n",
      "A value is trying to be set on a copy of a slice from a DataFrame\n",
      "\n",
      "See the caveats in the documentation: https://pandas.pydata.org/pandas-docs/stable/user_guide/indexing.html#returning-a-view-versus-a-copy\n",
      "  df['deciles'][index] = decnum\n"
     ]
    }
   ],
   "source": [
    "decnum=0\n",
    "df['deciles'] = 0\n",
    "for index, row in df.iterrows():\n",
    "    if index % 500  == 0 and index != 5000:\n",
    "        decnum += 1\n",
    "    df['deciles'][index] = decnum"
   ]
  },
  {
   "cell_type": "code",
   "execution_count": 78,
   "id": "f80d91c2",
   "metadata": {},
   "outputs": [],
   "source": [
    "table = pd.pivot_table(df, values='Mutation', index=['deciles'],\n",
    "                    columns=['mut_status_char'], aggfunc='count').sort_values(by = \"C>U G>U\", ascending=False)"
   ]
  },
  {
   "cell_type": "code",
   "execution_count": 85,
   "id": "4d6f8d5d",
   "metadata": {},
   "outputs": [
    {
     "data": {
      "text/html": [
       "<div>\n",
       "<style scoped>\n",
       "    .dataframe tbody tr th:only-of-type {\n",
       "        vertical-align: middle;\n",
       "    }\n",
       "\n",
       "    .dataframe tbody tr th {\n",
       "        vertical-align: top;\n",
       "    }\n",
       "\n",
       "    .dataframe thead th {\n",
       "        text-align: right;\n",
       "    }\n",
       "</style>\n",
       "<table border=\"1\" class=\"dataframe\">\n",
       "  <thead>\n",
       "    <tr style=\"text-align: right;\">\n",
       "      <th>mut_status_char</th>\n",
       "      <th>C&gt;U G&gt;U</th>\n",
       "      <th>U&gt;C U&gt;G</th>\n",
       "      <th>unknown</th>\n",
       "    </tr>\n",
       "    <tr>\n",
       "      <th>deciles</th>\n",
       "      <th></th>\n",
       "      <th></th>\n",
       "      <th></th>\n",
       "    </tr>\n",
       "  </thead>\n",
       "  <tbody>\n",
       "    <tr>\n",
       "      <th>10</th>\n",
       "      <td>630</td>\n",
       "      <td>36</td>\n",
       "      <td>186</td>\n",
       "    </tr>\n",
       "    <tr>\n",
       "      <th>9</th>\n",
       "      <td>386</td>\n",
       "      <td>18</td>\n",
       "      <td>96</td>\n",
       "    </tr>\n",
       "    <tr>\n",
       "      <th>8</th>\n",
       "      <td>327</td>\n",
       "      <td>42</td>\n",
       "      <td>131</td>\n",
       "    </tr>\n",
       "    <tr>\n",
       "      <th>7</th>\n",
       "      <td>283</td>\n",
       "      <td>26</td>\n",
       "      <td>191</td>\n",
       "    </tr>\n",
       "    <tr>\n",
       "      <th>6</th>\n",
       "      <td>262</td>\n",
       "      <td>39</td>\n",
       "      <td>199</td>\n",
       "    </tr>\n",
       "    <tr>\n",
       "      <th>5</th>\n",
       "      <td>250</td>\n",
       "      <td>45</td>\n",
       "      <td>205</td>\n",
       "    </tr>\n",
       "    <tr>\n",
       "      <th>4</th>\n",
       "      <td>227</td>\n",
       "      <td>51</td>\n",
       "      <td>222</td>\n",
       "    </tr>\n",
       "    <tr>\n",
       "      <th>3</th>\n",
       "      <td>191</td>\n",
       "      <td>41</td>\n",
       "      <td>268</td>\n",
       "    </tr>\n",
       "    <tr>\n",
       "      <th>2</th>\n",
       "      <td>181</td>\n",
       "      <td>37</td>\n",
       "      <td>282</td>\n",
       "    </tr>\n",
       "    <tr>\n",
       "      <th>1</th>\n",
       "      <td>160</td>\n",
       "      <td>55</td>\n",
       "      <td>285</td>\n",
       "    </tr>\n",
       "  </tbody>\n",
       "</table>\n",
       "</div>"
      ],
      "text/plain": [
       "mut_status_char  C>U G>U  U>C U>G  unknown\n",
       "deciles                                   \n",
       "10                   630       36      186\n",
       "9                    386       18       96\n",
       "8                    327       42      131\n",
       "7                    283       26      191\n",
       "6                    262       39      199\n",
       "5                    250       45      205\n",
       "4                    227       51      222\n",
       "3                    191       41      268\n",
       "2                    181       37      282\n",
       "1                    160       55      285"
      ]
     },
     "execution_count": 85,
     "metadata": {},
     "output_type": "execute_result"
    }
   ],
   "source": [
    "table"
   ]
  },
  {
   "cell_type": "code",
   "execution_count": 87,
   "id": "5e8b2205",
   "metadata": {},
   "outputs": [],
   "source": [
    "rho, p = spearmanr(list(table.index), list(table[\"C>U G>U\"]))"
   ]
  },
  {
   "cell_type": "code",
   "execution_count": 88,
   "id": "3180502e",
   "metadata": {},
   "outputs": [
    {
     "name": "stdout",
     "output_type": "stream",
     "text": [
      "0.9999999999999999\n",
      "6.646897422032013e-64\n"
     ]
    }
   ],
   "source": [
    "#напечатать ранговая корреляция Спирмена и p-значение\n",
    "print(rho)\n",
    "print(p)"
   ]
  },
  {
   "cell_type": "markdown",
   "id": "ccd42a24",
   "metadata": {},
   "source": [
    "Вывод - чем выше Proportion, тем больше там C>U G>U мутаций"
   ]
  },
  {
   "cell_type": "code",
   "execution_count": 160,
   "id": "828d9019",
   "metadata": {},
   "outputs": [],
   "source": [
    "df.loc[df['mut_status_char'] == \"C>U G>U\",'mut_status'] = 1\n",
    "df.loc[df['mut_status_char'] != \"C>U G>U\",'mut_status'] = -1"
   ]
  },
  {
   "cell_type": "code",
   "execution_count": 161,
   "id": "55361e83",
   "metadata": {},
   "outputs": [
    {
     "data": {
      "image/png": "[encoded data removed]",
      "text/plain": [
       "<Figure size 432x288 with 1 Axes>"
      ]
     },
     "metadata": {
      "needs_background": "light"
     },
     "output_type": "display_data"
    }
   ],
   "source": [
    "# Scatter plot\n",
    "plt.scatter(df.Proportion, df.mut_status);\n",
    "plt.title('Proportion vs is/not C>U G>U');\n",
    "plt.grid();\n",
    "plt.xlabel('Proportion');\n",
    "plt.ylabel('Mutation status');"
   ]
  },
  {
   "cell_type": "code",
   "execution_count": 162,
   "id": "a03ca78b",
   "metadata": {},
   "outputs": [],
   "source": [
    "data = df[['mut_status', 'Proportion']]\n",
    "formula = 'mut_status ~ Proportion'"
   ]
  },
  {
   "cell_type": "code",
   "execution_count": 163,
   "id": "8bd737c3",
   "metadata": {},
   "outputs": [
    {
     "data": {
      "text/html": [
       "<div>\n",
       "<style scoped>\n",
       "    .dataframe tbody tr th:only-of-type {\n",
       "        vertical-align: middle;\n",
       "    }\n",
       "\n",
       "    .dataframe tbody tr th {\n",
       "        vertical-align: top;\n",
       "    }\n",
       "\n",
       "    .dataframe thead th {\n",
       "        text-align: right;\n",
       "    }\n",
       "</style>\n",
       "<table border=\"1\" class=\"dataframe\">\n",
       "  <thead>\n",
       "    <tr style=\"text-align: right;\">\n",
       "      <th></th>\n",
       "      <th>mut_status</th>\n",
       "      <th>Proportion</th>\n",
       "    </tr>\n",
       "  </thead>\n",
       "  <tbody>\n",
       "    <tr>\n",
       "      <th>0</th>\n",
       "      <td>1</td>\n",
       "      <td>0.000101</td>\n",
       "    </tr>\n",
       "    <tr>\n",
       "      <th>1</th>\n",
       "      <td>-1</td>\n",
       "      <td>0.000101</td>\n",
       "    </tr>\n",
       "    <tr>\n",
       "      <th>2</th>\n",
       "      <td>1</td>\n",
       "      <td>0.000101</td>\n",
       "    </tr>\n",
       "    <tr>\n",
       "      <th>3</th>\n",
       "      <td>-1</td>\n",
       "      <td>0.000101</td>\n",
       "    </tr>\n",
       "    <tr>\n",
       "      <th>4</th>\n",
       "      <td>-1</td>\n",
       "      <td>0.000101</td>\n",
       "    </tr>\n",
       "    <tr>\n",
       "      <th>...</th>\n",
       "      <td>...</td>\n",
       "      <td>...</td>\n",
       "    </tr>\n",
       "    <tr>\n",
       "      <th>5347</th>\n",
       "      <td>-1</td>\n",
       "      <td>0.528372</td>\n",
       "    </tr>\n",
       "    <tr>\n",
       "      <th>5348</th>\n",
       "      <td>-1</td>\n",
       "      <td>0.000000</td>\n",
       "    </tr>\n",
       "    <tr>\n",
       "      <th>5349</th>\n",
       "      <td>-1</td>\n",
       "      <td>0.000000</td>\n",
       "    </tr>\n",
       "    <tr>\n",
       "      <th>5350</th>\n",
       "      <td>1</td>\n",
       "      <td>0.983923</td>\n",
       "    </tr>\n",
       "    <tr>\n",
       "      <th>5351</th>\n",
       "      <td>-1</td>\n",
       "      <td>0.991216</td>\n",
       "    </tr>\n",
       "  </tbody>\n",
       "</table>\n",
       "<p>5352 rows × 2 columns</p>\n",
       "</div>"
      ],
      "text/plain": [
       "      mut_status  Proportion\n",
       "0              1    0.000101\n",
       "1             -1    0.000101\n",
       "2              1    0.000101\n",
       "3             -1    0.000101\n",
       "4             -1    0.000101\n",
       "...          ...         ...\n",
       "5347          -1    0.528372\n",
       "5348          -1    0.000000\n",
       "5349          -1    0.000000\n",
       "5350           1    0.983923\n",
       "5351          -1    0.991216\n",
       "\n",
       "[5352 rows x 2 columns]"
      ]
     },
     "execution_count": 163,
     "metadata": {},
     "output_type": "execute_result"
    }
   ],
   "source": [
    "data"
   ]
  },
  {
   "cell_type": "code",
   "execution_count": 164,
   "id": "8e1c5218",
   "metadata": {},
   "outputs": [],
   "source": [
    "train, test = train_test_split(data, test_size=0.25, random_state=12345)"
   ]
  },
  {
   "cell_type": "code",
   "execution_count": 165,
   "id": "9258e7d3",
   "metadata": {},
   "outputs": [],
   "source": [
    "model = smf.glm(formula = formula, \n",
    "                data = train, \n",
    "                family = sm.families.Binomial())\n",
    "result = model.fit()"
   ]
  },
  {
   "cell_type": "code",
   "execution_count": 166,
   "id": "2f485c2c",
   "metadata": {},
   "outputs": [],
   "source": [
    "predict = result.predict(test['Proportion'])"
   ]
  },
  {
   "cell_type": "code",
   "execution_count": 170,
   "id": "944e707d",
   "metadata": {},
   "outputs": [
    {
     "data": {
      "text/plain": [
       "<AxesSubplot:>"
      ]
     },
     "execution_count": 170,
     "metadata": {},
     "output_type": "execute_result"
    },
    {
     "data": {
      "image/png": "[encoded data removed]",
      "text/plain": [
       "<Figure size 432x288 with 1 Axes>"
      ]
     },
     "metadata": {
      "needs_background": "light"
     },
     "output_type": "display_data"
    }
   ],
   "source": [
    "predict.hist()"
   ]
  },
  {
   "cell_type": "markdown",
   "id": "6c1dad31",
   "metadata": {},
   "source": [
    "Склоняюсь к тому, что модели сложно предсказывать по одному параметру"
   ]
  },
  {
   "cell_type": "markdown",
   "id": "b2a117dc",
   "metadata": {},
   "source": [
    "Вывод - VAF коррелирует с количеством C>U G>U мутаций, модель првильно не предсказала"
   ]
  }
 ],
 "metadata": {
  "kernelspec": {
   "display_name": "Python 3 (ipykernel)",
   "language": "python",
   "name": "python3"
  },
  "language_info": {
   "codemirror_mode": {
    "name": "ipython",
    "version": 3
   },
   "file_extension": ".py",
   "mimetype": "text/x-python",
   "name": "python",
   "nbconvert_exporter": "python",
   "pygments_lexer": "ipython3",
   "version": "3.9.5"
  }
 },
 "nbformat": 4,
 "nbformat_minor": 5
}
