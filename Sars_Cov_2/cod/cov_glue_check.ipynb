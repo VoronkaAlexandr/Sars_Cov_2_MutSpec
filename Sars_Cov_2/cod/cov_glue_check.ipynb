{
 "cells": [
  {
   "cell_type": "code",
   "execution_count": 2,
   "id": "68e80782",
   "metadata": {},
   "outputs": [],
   "source": [
    "import requests\n",
    "import pandas as pd\n",
    "import numpy as np\n",
    "from bs4 import BeautifulSoup\n",
    "import matplotlib.pyplot as plt\n",
    "from sklearn.linear_model import LogisticRegression\n",
    "from sklearn.model_selection import train_test_split"
   ]
  },
  {
   "cell_type": "code",
   "execution_count": 3,
   "id": "7f288bc8",
   "metadata": {},
   "outputs": [],
   "source": [
    "with open(\"C:/Users/ASUS/Downloads/cov_glue.html\") as fp:\n",
    "    soup = BeautifulSoup(fp, 'html.parser')\n",
    "table1 = soup.find('table', id='mutTable')"
   ]
  },
  {
   "cell_type": "code",
   "execution_count": 4,
   "id": "4b04d3ce",
   "metadata": {},
   "outputs": [],
   "source": [
    "table=[]\n",
    "for i in table1.find_all('tr'):\n",
    "    line = []\n",
    "    for j in i.find_all('td'):\n",
    "        line.append(j.text)\n",
    "    table.append(line)"
   ]
  },
  {
   "cell_type": "code",
   "execution_count": 5,
   "id": "27e2e4eb",
   "metadata": {},
   "outputs": [],
   "source": [
    "headers = table[0]\n",
    "mut_table = table[1:]"
   ]
  },
  {
   "cell_type": "code",
   "execution_count": 6,
   "id": "3b2ce4d0",
   "metadata": {},
   "outputs": [],
   "source": [
    "df = pd.DataFrame(mut_table, columns = headers)"
   ]
  },
  {
   "cell_type": "code",
   "execution_count": 7,
   "id": "87d8d796",
   "metadata": {},
   "outputs": [],
   "source": [
    "df.to_csv(\"D:/Sars_Cov_2_MutSpec-main/Sars_Cov_2_MutSpec-main/Sars_Cov_2/new_data/data/cov_glue_mut.csv\")"
   ]
  },
  {
   "cell_type": "code",
   "execution_count": 8,
   "id": "2fcf7bc2",
   "metadata": {},
   "outputs": [],
   "source": [
    "df['AA_from'] = df['Mutation'].astype(str).str[0]\n",
    "df['AA_to'] = df['Mutation'].astype(str).str[-1]"
   ]
  },
  {
   "cell_type": "code",
   "execution_count": 9,
   "id": "f2cee226",
   "metadata": {},
   "outputs": [],
   "source": [
    "from_nuc=[]\n",
    "for codon in df['RefCodon']:\n",
    "    uppernuc=''\n",
    "    for nuc in codon:\n",
    "        if nuc.isupper():\n",
    "            uppernuc+=nuc\n",
    "    from_nuc.append(uppernuc)\n",
    "    \n",
    "to_nuc=[]\n",
    "for codon in df['MutCodon']:\n",
    "    uppernuc=''\n",
    "    for nuc in codon:\n",
    "        if nuc.isupper():\n",
    "            uppernuc+=nuc\n",
    "    to_nuc.append(uppernuc)"
   ]
  },
  {
   "cell_type": "code",
   "execution_count": 10,
   "id": "5058f478",
   "metadata": {},
   "outputs": [],
   "source": [
    "df['from_nuc'] = from_nuc\n",
    "df['to_nuc'] = to_nuc"
   ]
  },
  {
   "cell_type": "code",
   "execution_count": 11,
   "id": "993d0525",
   "metadata": {},
   "outputs": [],
   "source": [
    "df['mut_status'] = 0"
   ]
  },
  {
   "cell_type": "code",
   "execution_count": 12,
   "id": "d0fa0a90",
   "metadata": {},
   "outputs": [],
   "source": [
    "df.loc[((df['from_nuc'] == 'C') | (df['from_nuc'] == 'G')) & (df['to_nuc'] =='T'),'mut_status'] = 1\n",
    "df.loc[((df['to_nuc'] == 'C') | (df['to_nuc'] == 'G')) & (df['from_nuc'] =='T'),'mut_status'] = -1"
   ]
  },
  {
   "cell_type": "code",
   "execution_count": 13,
   "id": "10de91d3",
   "metadata": {},
   "outputs": [],
   "source": [
    "df[\"Proportion\"] = pd.to_numeric(df[\"Proportion\"])"
   ]
  },
  {
   "cell_type": "code",
   "execution_count": 14,
   "id": "eb5575ea",
   "metadata": {},
   "outputs": [],
   "source": [
    "df['prop_category'] = ''"
   ]
  },
  {
   "cell_type": "code",
   "execution_count": 15,
   "id": "e1dfc8c6",
   "metadata": {},
   "outputs": [],
   "source": [
    "df.loc[(df['Proportion'] >= 0.0001) & (df['Proportion'] < 0.001),'prop_category'] = '[0.0001;0.001)'\n",
    "df.loc[(df['Proportion'] >= 0.001) & (df['Proportion'] < 0.01),'prop_category'] = '[0.001;0.01)'\n",
    "df.loc[(df['Proportion'] >= 0.01) & (df['Proportion'] < 0.1),'prop_category'] = '[0.01;0.1)'\n",
    "df.loc[(df['Proportion'] >= 0.1),'prop_category'] = '>=0.1'\n",
    "df.loc[(df['Proportion'] < 0.0001),'prop_category'] = '<0.0001'"
   ]
  },
  {
   "cell_type": "code",
   "execution_count": 16,
   "id": "e835ef3d",
   "metadata": {
    "scrolled": true
   },
   "outputs": [
    {
     "data": {
      "text/html": [
       "<div>\n",
       "<style scoped>\n",
       "    .dataframe tbody tr th:only-of-type {\n",
       "        vertical-align: middle;\n",
       "    }\n",
       "\n",
       "    .dataframe tbody tr th {\n",
       "        vertical-align: top;\n",
       "    }\n",
       "\n",
       "    .dataframe thead th {\n",
       "        text-align: right;\n",
       "    }\n",
       "</style>\n",
       "<table border=\"1\" class=\"dataframe\">\n",
       "  <thead>\n",
       "    <tr style=\"text-align: right;\">\n",
       "      <th></th>\n",
       "      <th>Lineage</th>\n",
       "      <th>ORF</th>\n",
       "      <th>CodonNum</th>\n",
       "      <th>Mutation</th>\n",
       "      <th>ORF1ab</th>\n",
       "      <th>MutType</th>\n",
       "      <th>C1</th>\n",
       "      <th>C2</th>\n",
       "      <th>C3</th>\n",
       "      <th>RefCodon</th>\n",
       "      <th>MutCodon</th>\n",
       "      <th>Count</th>\n",
       "      <th>Proportion</th>\n",
       "      <th>AA_from</th>\n",
       "      <th>AA_to</th>\n",
       "      <th>from_nuc</th>\n",
       "      <th>to_nuc</th>\n",
       "      <th>mut_status</th>\n",
       "      <th>prop_category</th>\n",
       "    </tr>\n",
       "  </thead>\n",
       "  <tbody>\n",
       "    <tr>\n",
       "      <th>0</th>\n",
       "      <td>All</td>\n",
       "      <td>S</td>\n",
       "      <td>614</td>\n",
       "      <td>D614G</td>\n",
       "      <td></td>\n",
       "      <td>nonsyn</td>\n",
       "      <td>23402</td>\n",
       "      <td>23403</td>\n",
       "      <td>23404</td>\n",
       "      <td>gAt</td>\n",
       "      <td>gGt</td>\n",
       "      <td>5182511</td>\n",
       "      <td>0.991216</td>\n",
       "      <td>D</td>\n",
       "      <td>G</td>\n",
       "      <td>A</td>\n",
       "      <td>G</td>\n",
       "      <td>0</td>\n",
       "      <td>&gt;=0.1</td>\n",
       "    </tr>\n",
       "    <tr>\n",
       "      <th>1</th>\n",
       "      <td>All</td>\n",
       "      <td>ORF1ab/nsp12</td>\n",
       "      <td>323</td>\n",
       "      <td>P323L</td>\n",
       "      <td>P4715L</td>\n",
       "      <td>nonsyn</td>\n",
       "      <td>14407</td>\n",
       "      <td>14408</td>\n",
       "      <td>14409</td>\n",
       "      <td>cCt</td>\n",
       "      <td>cTt</td>\n",
       "      <td>5144375</td>\n",
       "      <td>0.983923</td>\n",
       "      <td>P</td>\n",
       "      <td>L</td>\n",
       "      <td>C</td>\n",
       "      <td>T</td>\n",
       "      <td>1</td>\n",
       "      <td>&gt;=0.1</td>\n",
       "    </tr>\n",
       "    <tr>\n",
       "      <th>2</th>\n",
       "      <td>All</td>\n",
       "      <td>S</td>\n",
       "      <td>452</td>\n",
       "      <td>L452R</td>\n",
       "      <td></td>\n",
       "      <td>nonsyn</td>\n",
       "      <td>22916</td>\n",
       "      <td>22917</td>\n",
       "      <td>22918</td>\n",
       "      <td>cTg</td>\n",
       "      <td>cGg</td>\n",
       "      <td>2772069</td>\n",
       "      <td>0.530191</td>\n",
       "      <td>L</td>\n",
       "      <td>R</td>\n",
       "      <td>T</td>\n",
       "      <td>G</td>\n",
       "      <td>-1</td>\n",
       "      <td>&gt;=0.1</td>\n",
       "    </tr>\n",
       "    <tr>\n",
       "      <th>3</th>\n",
       "      <td>All</td>\n",
       "      <td>M</td>\n",
       "      <td>82</td>\n",
       "      <td>I82T</td>\n",
       "      <td></td>\n",
       "      <td>nonsyn</td>\n",
       "      <td>26766</td>\n",
       "      <td>26767</td>\n",
       "      <td>26768</td>\n",
       "      <td>aTc</td>\n",
       "      <td>aCc</td>\n",
       "      <td>2769241</td>\n",
       "      <td>0.529650</td>\n",
       "      <td>I</td>\n",
       "      <td>T</td>\n",
       "      <td>T</td>\n",
       "      <td>C</td>\n",
       "      <td>-1</td>\n",
       "      <td>&gt;=0.1</td>\n",
       "    </tr>\n",
       "    <tr>\n",
       "      <th>4</th>\n",
       "      <td>All</td>\n",
       "      <td>S</td>\n",
       "      <td>681</td>\n",
       "      <td>P681R</td>\n",
       "      <td></td>\n",
       "      <td>nonsyn</td>\n",
       "      <td>23603</td>\n",
       "      <td>23604</td>\n",
       "      <td>23605</td>\n",
       "      <td>cCt</td>\n",
       "      <td>cGt</td>\n",
       "      <td>2762560</td>\n",
       "      <td>0.528372</td>\n",
       "      <td>P</td>\n",
       "      <td>R</td>\n",
       "      <td>C</td>\n",
       "      <td>G</td>\n",
       "      <td>0</td>\n",
       "      <td>&gt;=0.1</td>\n",
       "    </tr>\n",
       "    <tr>\n",
       "      <th>...</th>\n",
       "      <td>...</td>\n",
       "      <td>...</td>\n",
       "      <td>...</td>\n",
       "      <td>...</td>\n",
       "      <td>...</td>\n",
       "      <td>...</td>\n",
       "      <td>...</td>\n",
       "      <td>...</td>\n",
       "      <td>...</td>\n",
       "      <td>...</td>\n",
       "      <td>...</td>\n",
       "      <td>...</td>\n",
       "      <td>...</td>\n",
       "      <td>...</td>\n",
       "      <td>...</td>\n",
       "      <td>...</td>\n",
       "      <td>...</td>\n",
       "      <td>...</td>\n",
       "      <td>...</td>\n",
       "    </tr>\n",
       "    <tr>\n",
       "      <th>5347</th>\n",
       "      <td>All</td>\n",
       "      <td>ORF1ab/nsp6</td>\n",
       "      <td>129</td>\n",
       "      <td>R129K</td>\n",
       "      <td>R3698K</td>\n",
       "      <td>nonsyn</td>\n",
       "      <td>11357</td>\n",
       "      <td>11358</td>\n",
       "      <td>11359</td>\n",
       "      <td>aGa</td>\n",
       "      <td>aAa</td>\n",
       "      <td>526</td>\n",
       "      <td>0.000101</td>\n",
       "      <td>R</td>\n",
       "      <td>K</td>\n",
       "      <td>G</td>\n",
       "      <td>A</td>\n",
       "      <td>0</td>\n",
       "      <td>[0.0001;0.001)</td>\n",
       "    </tr>\n",
       "    <tr>\n",
       "      <th>5348</th>\n",
       "      <td>All</td>\n",
       "      <td>ORF1ab/nsp12</td>\n",
       "      <td>847</td>\n",
       "      <td>I847V</td>\n",
       "      <td>I5239V</td>\n",
       "      <td>nonsyn</td>\n",
       "      <td>15979</td>\n",
       "      <td>15980</td>\n",
       "      <td>15981</td>\n",
       "      <td>Atc</td>\n",
       "      <td>Gtc</td>\n",
       "      <td>528</td>\n",
       "      <td>0.000101</td>\n",
       "      <td>I</td>\n",
       "      <td>V</td>\n",
       "      <td>A</td>\n",
       "      <td>G</td>\n",
       "      <td>0</td>\n",
       "      <td>[0.0001;0.001)</td>\n",
       "    </tr>\n",
       "    <tr>\n",
       "      <th>5349</th>\n",
       "      <td>All</td>\n",
       "      <td>ORF1ab/nsp12</td>\n",
       "      <td>928</td>\n",
       "      <td>H928Y</td>\n",
       "      <td>H5320Y</td>\n",
       "      <td>nonsyn</td>\n",
       "      <td>16222</td>\n",
       "      <td>16223</td>\n",
       "      <td>16224</td>\n",
       "      <td>Cat</td>\n",
       "      <td>Tat</td>\n",
       "      <td>528</td>\n",
       "      <td>0.000101</td>\n",
       "      <td>H</td>\n",
       "      <td>Y</td>\n",
       "      <td>C</td>\n",
       "      <td>T</td>\n",
       "      <td>1</td>\n",
       "      <td>[0.0001;0.001)</td>\n",
       "    </tr>\n",
       "    <tr>\n",
       "      <th>5350</th>\n",
       "      <td>All</td>\n",
       "      <td>ORF1ab/nsp14A2-B</td>\n",
       "      <td>474</td>\n",
       "      <td>I474V</td>\n",
       "      <td>I6399V</td>\n",
       "      <td>nonsyn</td>\n",
       "      <td>19459</td>\n",
       "      <td>19460</td>\n",
       "      <td>19461</td>\n",
       "      <td>Ata</td>\n",
       "      <td>Gta</td>\n",
       "      <td>529</td>\n",
       "      <td>0.000101</td>\n",
       "      <td>I</td>\n",
       "      <td>V</td>\n",
       "      <td>A</td>\n",
       "      <td>G</td>\n",
       "      <td>0</td>\n",
       "      <td>[0.0001;0.001)</td>\n",
       "    </tr>\n",
       "    <tr>\n",
       "      <th>5351</th>\n",
       "      <td>All</td>\n",
       "      <td>ORF1ab/nsp15A1-B</td>\n",
       "      <td>146</td>\n",
       "      <td>G146C</td>\n",
       "      <td>G6598C</td>\n",
       "      <td>nonsyn</td>\n",
       "      <td>20056</td>\n",
       "      <td>20057</td>\n",
       "      <td>20058</td>\n",
       "      <td>Ggt</td>\n",
       "      <td>Tgt</td>\n",
       "      <td>528</td>\n",
       "      <td>0.000101</td>\n",
       "      <td>G</td>\n",
       "      <td>C</td>\n",
       "      <td>G</td>\n",
       "      <td>T</td>\n",
       "      <td>1</td>\n",
       "      <td>[0.0001;0.001)</td>\n",
       "    </tr>\n",
       "  </tbody>\n",
       "</table>\n",
       "<p>5352 rows × 19 columns</p>\n",
       "</div>"
      ],
      "text/plain": [
       "     Lineage               ORF CodonNum Mutation  ORF1ab MutType     C1  \\\n",
       "0        All                 S      614    D614G          nonsyn  23402   \n",
       "1        All      ORF1ab/nsp12      323    P323L  P4715L  nonsyn  14407   \n",
       "2        All                 S      452    L452R          nonsyn  22916   \n",
       "3        All                 M       82     I82T          nonsyn  26766   \n",
       "4        All                 S      681    P681R          nonsyn  23603   \n",
       "...      ...               ...      ...      ...     ...     ...    ...   \n",
       "5347     All       ORF1ab/nsp6      129    R129K  R3698K  nonsyn  11357   \n",
       "5348     All      ORF1ab/nsp12      847    I847V  I5239V  nonsyn  15979   \n",
       "5349     All      ORF1ab/nsp12      928    H928Y  H5320Y  nonsyn  16222   \n",
       "5350     All  ORF1ab/nsp14A2-B      474    I474V  I6399V  nonsyn  19459   \n",
       "5351     All  ORF1ab/nsp15A1-B      146    G146C  G6598C  nonsyn  20056   \n",
       "\n",
       "         C2     C3 RefCodon MutCodon    Count  Proportion AA_from AA_to  \\\n",
       "0     23403  23404      gAt      gGt  5182511    0.991216       D     G   \n",
       "1     14408  14409      cCt      cTt  5144375    0.983923       P     L   \n",
       "2     22917  22918      cTg      cGg  2772069    0.530191       L     R   \n",
       "3     26767  26768      aTc      aCc  2769241    0.529650       I     T   \n",
       "4     23604  23605      cCt      cGt  2762560    0.528372       P     R   \n",
       "...     ...    ...      ...      ...      ...         ...     ...   ...   \n",
       "5347  11358  11359      aGa      aAa      526    0.000101       R     K   \n",
       "5348  15980  15981      Atc      Gtc      528    0.000101       I     V   \n",
       "5349  16223  16224      Cat      Tat      528    0.000101       H     Y   \n",
       "5350  19460  19461      Ata      Gta      529    0.000101       I     V   \n",
       "5351  20057  20058      Ggt      Tgt      528    0.000101       G     C   \n",
       "\n",
       "     from_nuc to_nuc  mut_status   prop_category  \n",
       "0           A      G           0           >=0.1  \n",
       "1           C      T           1           >=0.1  \n",
       "2           T      G          -1           >=0.1  \n",
       "3           T      C          -1           >=0.1  \n",
       "4           C      G           0           >=0.1  \n",
       "...       ...    ...         ...             ...  \n",
       "5347        G      A           0  [0.0001;0.001)  \n",
       "5348        A      G           0  [0.0001;0.001)  \n",
       "5349        C      T           1  [0.0001;0.001)  \n",
       "5350        A      G           0  [0.0001;0.001)  \n",
       "5351        G      T           1  [0.0001;0.001)  \n",
       "\n",
       "[5352 rows x 19 columns]"
      ]
     },
     "execution_count": 16,
     "metadata": {},
     "output_type": "execute_result"
    }
   ],
   "source": [
    "df"
   ]
  },
  {
   "cell_type": "code",
   "execution_count": 17,
   "id": "c872708a",
   "metadata": {},
   "outputs": [
    {
     "data": {
      "image/png": "[encoded data removed]",
      "text/plain": [
       "<Figure size 432x288 with 1 Axes>"
      ]
     },
     "metadata": {
      "needs_background": "light"
     },
     "output_type": "display_data"
    },
    {
     "data": {
      "image/png": "[encoded data removed]",
      "text/plain": [
       "<Figure size 432x288 with 1 Axes>"
      ]
     },
     "metadata": {
      "needs_background": "light"
     },
     "output_type": "display_data"
    },
    {
     "data": {
      "image/png": "[encoded data removed]",
      "text/plain": [
       "<Figure size 432x288 with 1 Axes>"
      ]
     },
     "metadata": {
      "needs_background": "light"
     },
     "output_type": "display_data"
    },
    {
     "data": {
      "image/png": "[encoded data removed]",
      "text/plain": [
       "<Figure size 432x288 with 1 Axes>"
      ]
     },
     "metadata": {
      "needs_background": "light"
     },
     "output_type": "display_data"
    }
   ],
   "source": [
    "df.loc[df['mut_status']==0,'mut_status_char']=\"unknown\"\n",
    "df.loc[df['mut_status']==1,'mut_status_char']=\"C>U G>U\"\n",
    "df.loc[df['mut_status']==-1,'mut_status_char']=\"U>C U>G\"\n",
    "for categor in df['prop_category'].unique():\n",
    "    df[df['prop_category'] == categor]['mut_status_char'].value_counts().plot(kind='bar', rot=0)\n",
    "    plt.title('Proportion '+categor)\n",
    "    plt.show()\n",
    "    plt.close()"
   ]
  },
  {
   "cell_type": "code",
   "execution_count": 18,
   "id": "5a59137f",
   "metadata": {},
   "outputs": [
    {
     "data": {
      "text/plain": [
       "C>U G>U    2897\n",
       "unknown    2065\n",
       "U>C U>G     390\n",
       "Name: mut_status_char, dtype: int64"
      ]
     },
     "execution_count": 18,
     "metadata": {},
     "output_type": "execute_result"
    }
   ],
   "source": [
    "df['mut_status_char'].value_counts()"
   ]
  },
  {
   "cell_type": "markdown",
   "id": "1be4b77d",
   "metadata": {},
   "source": [
    "Всего C>U G>U мутаций 2897. В обратную сторону 390. Остальное - другие мутации (2065). Если разделять по Proportion, видно, что всего C>U G>U выше чем в обратную сторону."
   ]
  },
  {
   "cell_type": "markdown",
   "id": "99e0ca37",
   "metadata": {},
   "source": [
    "Далее логистическая регрессия, за x берем Proportion, за y - статус мутации (1 - C>U/G>U, -1 - U>G/U>C, 0 - прочее)"
   ]
  },
  {
   "cell_type": "code",
   "execution_count": 19,
   "id": "560f4f46",
   "metadata": {},
   "outputs": [],
   "source": [
    "x = df['Proportion']\n",
    "y = df['mut_status']\n",
    "\n",
    "x_train, x_test, y_train, y_test = train_test_split(x, y, test_size=0.25, random_state=12345)\n",
    "x_train= x_train.values.reshape(-1, 1)\n",
    "x_test = x_test.values.reshape(-1, 1)"
   ]
  },
  {
   "cell_type": "code",
   "execution_count": 20,
   "id": "0cf503e7",
   "metadata": {},
   "outputs": [],
   "source": [
    "model = LogisticRegression(random_state=12345).fit(x_train, y_train)"
   ]
  },
  {
   "cell_type": "code",
   "execution_count": 21,
   "id": "ff9b148c",
   "metadata": {},
   "outputs": [],
   "source": [
    "y_predict = model.predict(x_test)"
   ]
  },
  {
   "cell_type": "code",
   "execution_count": 27,
   "id": "601a8bd3",
   "metadata": {},
   "outputs": [
    {
     "data": {
      "text/plain": [
       "array([[0.000352],\n",
       "       [0.000118],\n",
       "       [0.000394],\n",
       "       ...,\n",
       "       [0.000361],\n",
       "       [0.000181],\n",
       "       [0.000127]])"
      ]
     },
     "execution_count": 27,
     "metadata": {},
     "output_type": "execute_result"
    }
   ],
   "source": [
    "x_train"
   ]
  },
  {
   "cell_type": "code",
   "execution_count": 29,
   "id": "29da7e77",
   "metadata": {},
   "outputs": [
    {
     "data": {
      "text/plain": [
       " 1    2177\n",
       " 0    1546\n",
       "-1     291\n",
       "Name: mut_status, dtype: int64"
      ]
     },
     "execution_count": 29,
     "metadata": {},
     "output_type": "execute_result"
    }
   ],
   "source": [
    "y_train.value_counts()"
   ]
  },
  {
   "cell_type": "code",
   "execution_count": 23,
   "id": "6a9afc55",
   "metadata": {},
   "outputs": [],
   "source": [
    "errors = 0\n",
    "for answer_num in range(len(y_predict)):\n",
    "    if y_test.values[answer_num] != y_predict[answer_num]:\n",
    "        errors+=1"
   ]
  },
  {
   "cell_type": "code",
   "execution_count": 24,
   "id": "ade89a37",
   "metadata": {},
   "outputs": [
    {
     "name": "stdout",
     "output_type": "stream",
     "text": [
      "Число ошибок -  618  Процент ошибок - 46.18834080717489 %\n"
     ]
    }
   ],
   "source": [
    "print('Число ошибок - ', errors, \" Процент ошибок -\", errors/len(y_predict)*100,'%')"
   ]
  },
  {
   "cell_type": "code",
   "execution_count": 25,
   "id": "119d2df0",
   "metadata": {},
   "outputs": [],
   "source": [
    "unique, counts = np.unique(y_predict, return_counts=True)"
   ]
  },
  {
   "cell_type": "code",
   "execution_count": 26,
   "id": "b07f80f8",
   "metadata": {},
   "outputs": [
    {
     "name": "stdout",
     "output_type": "stream",
     "text": [
      "[[   1 1338]]\n"
     ]
    }
   ],
   "source": [
    "print(np.asarray((unique, counts)).T)"
   ]
  },
  {
   "cell_type": "markdown",
   "id": "a59a202d",
   "metadata": {},
   "source": [
    "Модель предсказала одни еденицы"
   ]
  },
  {
   "cell_type": "markdown",
   "id": "ea305e45",
   "metadata": {},
   "source": [
    "Вывод - с помощью Proportion нельзя предсказать будет ли мутация по мутспеку или против, она от этого не зависит."
   ]
  }
 ],
 "metadata": {
  "kernelspec": {
   "display_name": "Python 3 (ipykernel)",
   "language": "python",
   "name": "python3"
  },
  "language_info": {
   "codemirror_mode": {
    "name": "ipython",
    "version": 3
   },
   "file_extension": ".py",
   "mimetype": "text/x-python",
   "name": "python",
   "nbconvert_exporter": "python",
   "pygments_lexer": "ipython3",
   "version": "3.9.5"
  }
 },
 "nbformat": 4,
 "nbformat_minor": 5
}
